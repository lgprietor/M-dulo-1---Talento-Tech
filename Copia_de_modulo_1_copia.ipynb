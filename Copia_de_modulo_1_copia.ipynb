{
  "cells": [
    {
      "cell_type": "markdown",
      "metadata": {
        "id": "view-in-github",
        "colab_type": "text"
      },
      "source": [
        "<a href=\"https://colab.research.google.com/github/lgprietor/M-dulo-1---Talento-Tech/blob/main/Copia_de_modulo_1_copia.ipynb\" target=\"_parent\"><img src=\"https://colab.research.google.com/assets/colab-badge.svg\" alt=\"Open In Colab\"/></a>"
      ]
    },
    {
      "cell_type": "markdown",
      "metadata": {
        "id": "gOlUkq0bPucu"
      },
      "source": [
        "# Integración de datos de diversas fuentes y formatos."
      ]
    },
    {
      "cell_type": "markdown",
      "metadata": {
        "id": "2o6QOjGXPucu"
      },
      "source": [
        "En ciencia de datos, la integración de datos de diversas fuentes y formatos es el proceso de combinar datos de diferentes orígenes para crear un conjunto de datos cohesivo y unificado. Este proceso es crucial para obtener una vista completa y precisa de los datos, lo que a su vez permite un análisis más preciso y la toma de decisiones más informadas.\n",
        "\n",
        "Las diversas fuentes de datos pueden incluir:\n",
        "\n",
        "- Bases de datos: Las bases de datos relacionales, NoSQL y otras pueden almacenar información en diferentes formatos y estructuras.\n",
        "- Archivos: Los archivos CSV, Excel, JSON y otros pueden contener datos estructurados o semiestructurados.\n",
        "- Sensores: Los dispositivos IoT y otros sensores pueden generar datos en tiempo real.\n",
        "- Redes sociales: Las plataformas de redes sociales como Twitter, Facebook y LinkedIn pueden proporcionar información sobre las tendencias, los comportamientos y las opiniones del público."
      ]
    },
    {
      "cell_type": "markdown",
      "metadata": {
        "id": "M1OOBZfJPucv"
      },
      "source": [
        "\n",
        "Los formatos de datos también pueden variar considerablemente, lo que dificulta la integración de datos de diferentes fuentes. Algunos de los formatos de datos más comunes incluyen:\n",
        "\n",
        "- Datos estructurados: Los datos estructurados se organizan en filas y columnas, como en una hoja de cálculo.\n",
        "- Datos semiestructurados: Los datos semiestructurados tienen una estructura flexible, como los datos JSON.\n",
        "- Datos no estructurados: Los datos no estructurados no tienen una estructura definida, como el texto libre o las imágenes.\n",
        "\n",
        "La integración de datos de diversas fuentes y formatos implica varios pasos:\n",
        "\n",
        "1. Extracción: El primer paso es extraer datos de las diferentes fuentes. Esto puede implicar la descarga de archivos, la consulta de bases de datos o la conexión a APIs.\n",
        "\n",
        "2. Limpieza: Los datos extraídos a menudo contienen errores, valores inconsistentes y formatos incompatibles. El proceso de limpieza implica identificar y corregir estos problemas para garantizar la calidad de los datos.\n",
        "\n",
        "3. Transformación: Los datos limpios deben transformarse a un formato común para que puedan ser integrados. Esto puede implicar convertir los datos a un formato estándar, como CSV o JSON, o realizar transformaciones más complejas como la normalización de datos.\n",
        "\n",
        "4. Carga: Los datos transformados se cargan en un almacén de datos centralizado, donde pueden ser analizados y utilizados para la toma de decisiones.\n",
        "\n",
        "Existen diversas herramientas y plataformas que pueden facilitar la integración de datos, como:\n",
        "\n",
        "Herramientas ETL: Las herramientas ETL (Extracción, Transformación y Carga) automatizan el proceso de integración de datos.\n",
        "Plataformas de integración de datos: Estas plataformas proporcionan una interfaz gráfica para la gestión y el procesamiento de datos de diversas fuentes.\n",
        "La integración de datos de diversas fuentes y formatos es un proceso complejo y desafiante, pero es fundamental para el éxito de la ciencia de datos. Al integrar datos de manera efectiva, los científicos de datos pueden obtener una vista completa y precisa de los datos, lo que les permite tomar decisiones más informadas y crear soluciones más efectivas.\n",
        "\n",
        "Recursos adicionales:\n",
        "\n",
        "- https://cloud.google.com/learn/what-is-data-integration?hl=es-419\n",
        "- https://dataspurs.com/blog/data-integration-las-mejores-practicas-para-integrar-datos-de-diferentes-fuentes/\n",
        "- https://blogs.imf-formacion.com/blog/tecnologia/10-herramientas-integracion-datos-201907/"
      ]
    },
    {
      "cell_type": "markdown",
      "metadata": {
        "id": "VJIFTyMPPucv"
      },
      "source": [
        "Algunos de los más comunes:\n",
        "\n",
        "1. Encuestas y cuestionarios: Se utilizan para recopilar datos a través de preguntas estructuradas. Pueden ser administrados en papel, en línea o mediante entrevistas.\n",
        "\n",
        "2. Entrevistas: Permiten obtener información más detallada y contextual mediante conversaciones cara a cara o telefónicas. Pueden ser estructuradas, semiestructuradas o no estructuradas.\n",
        "\n",
        "3. Datos transaccionales: Recopilación de datos a partir de transacciones comerciales, registros de clientes, registros de ventas, entre otros.\n",
        "\n",
        "4. Sensores y dispositivos IoT: En entornos digitales, los sensores y dispositivos de Internet de las cosas (IoT) pueden recopilar datos automáticamente sobre variables específicas.\n",
        "\n",
        "5. Datos administrativos y registros: Utilización de registros existentes, como datos de salud, registros académicos o bases de datos de organizaciones.\n",
        "\n",
        "6. Extracción de datos web: Recopilación de datos de páginas web mediante técnicas como web scraping.\n",
        "\n",
        "7. Análisis de redes sociales: Recopilación de datos de plataformas de redes sociales para comprender las interacciones y relaciones entre individuos o entidades.\n",
        "\n",
        "Es importante considerar la `validez`, la `confiabilidad` y la `ética` en la recolección de datos para garantizar la calidad y la integridad de la información recopilada. Además, el análisis de datos y la toma de decisiones en ciencia de datos dependen en gran medida de la calidad de los datos recopilados."
      ]
    },
    {
      "cell_type": "markdown",
      "metadata": {
        "id": "Df5rUsozPucw"
      },
      "source": [
        "Para trabajar con datos transaccionales en Python, es posible utilizar varias librerías que facilitan la manipulación y análisis de datos. A continuación, algunas de las más comunes:\n",
        "\n",
        "1. [Pandas](https://pandas.pydata.org/): Manipulación y análisis de datos que proporciona estructuras de datos flexibles y eficientes, por ejemplo, DataFrame, que es especialmente útil para trabajar con datos tabulares.\n",
        "\n",
        "2. [Numpy](https://numpy.org/): Realizar operaciones matemáticas y numéricas en Python. Se utiliza comúnmente para trabajar con matrices y arreglos\n",
        "\n",
        "3. [Matplotlib](https://matplotlib.org/) y [Seaborn](https://seaborn.pydata.org/): Estas bibliotecas son excelentes para la visualización de datos. Matplotlib proporciona funciones para crear gráficos básicos, mientras que Seaborn simplifica la creación de gráficos estadísticos atractivos."
      ]
    },
    {
      "cell_type": "markdown",
      "metadata": {
        "id": "DjGptQabPucw"
      },
      "source": [
        "## Preparación y configuración del entorno de trabajo"
      ]
    },
    {
      "cell_type": "markdown",
      "metadata": {
        "id": "f-_wc_LHPucx"
      },
      "source": [
        "### Librerias en Python"
      ]
    },
    {
      "cell_type": "markdown",
      "metadata": {
        "id": "HxoH21aHPucx"
      },
      "source": [
        "Las librerías de Python son elementos fundamentales dentro del ecosistema del lenguaje. Estas librerías permiten a los desarrolladores acceder a una amplia gama de funcionalidades especializadas. Desde la manipulación de cadenas de texto y operaciones matemáticas hasta el acceso a bases de datos, manipulación de archivos, creación de interfaces gráficas, procesamiento de datos científicos y desarrollo web, las librerías de Python ofrecen soluciones para una gran variedad de necesidades y aplicaciones. Su versatilidad y extensa documentación hacen que sean una herramienta indispensable para los programadores en todo tipo de proyectos y campos de aplicación."
      ]
    },
    {
      "cell_type": "code",
      "execution_count": 26,
      "metadata": {
        "id": "Cr-B69nzPucy",
        "colab": {
          "base_uri": "https://localhost:8080/"
        },
        "outputId": "4a190536-9b1e-4864-c0d9-04e70cd3b264"
      },
      "outputs": [
        {
          "output_type": "stream",
          "name": "stdout",
          "text": [
            "Reading package lists... Done\n",
            "Building dependency tree... Done\n",
            "Reading state information... Done\n",
            "unixodbc-dev is already the newest version (2.3.9-5ubuntu0.1).\n",
            "0 upgraded, 0 newly installed, 0 to remove and 45 not upgraded.\n",
            "Collecting pyodbc\n",
            "  Using cached pyodbc-5.1.0-cp310-cp310-manylinux_2_17_x86_64.manylinux2014_x86_64.whl (334 kB)\n",
            "Installing collected packages: pyodbc\n",
            "Successfully installed pyodbc-5.1.0\n"
          ]
        }
      ],
      "source": [
        "# Instalar de librerias necesarias\n",
        "\n",
        "!apt install unixodbc-dev\n",
        "!pip install pyodbc pandas altair seaborn sqlite3 altair_viewer matplotlib"
      ]
    },
    {
      "cell_type": "code",
      "execution_count": 27,
      "metadata": {
        "id": "jH40KuwEPucy"
      },
      "outputs": [],
      "source": [
        "# Importar librerias\n",
        "\n",
        "import os\n",
        "import altair as alt\n",
        "import pandas as pd\n",
        "import numpy as np\n",
        "import seaborn as sns\n",
        "import matplotlib.pyplot as plt\n",
        "import pyodbc\n",
        "import warnings\n",
        "import sqlite3"
      ]
    },
    {
      "cell_type": "markdown",
      "metadata": {
        "id": "V-8C7L99Pucz"
      },
      "source": [
        "## Conexión a fuente de datos: CSV"
      ]
    },
    {
      "cell_type": "markdown",
      "metadata": {
        "id": "G4enAbcmPucz"
      },
      "source": [
        "Las fuentes de datos en formato CSV (valores separados por comas) son una forma común de almacenar datos tabulares en archivos de texto plano. CSV es un formato sencillo y ampliamente utilizado para intercambiar datos entre diferentes sistemas, ya que es fácil de leer y escribir tanto para humanos como para programas informáticos.\n",
        "\n",
        "En un archivo CSV, cada línea representa una fila de datos y los valores en cada fila están separados por un delimitador, que suelen ser:\n",
        "\n",
        "- Una coma (,),\n",
        "- Un punto y coma (;)\n",
        "- Un tabulador (\\t)\n",
        "- otro carácter específico"
      ]
    },
    {
      "cell_type": "markdown",
      "metadata": {
        "id": "835k0lAFPucz"
      },
      "source": [
        "En este ejemplo, cada fila tiene tres campos separados por comas: Nombre, Edad y Ciudad. El primer registro es Juan, de 25 años, de Barcelona; y el segundo es María, de 30 años, de Madrid.\n",
        "\n",
        "- Las fuentes de datos en formato CSV son muy versátiles y se utilizan en una amplia gama de aplicaciones, desde la gestión de bases de datos hasta el análisis de datos en ciencia de datos y aprendizaje automático.\n",
        "\n",
        "- Son particularmente útiles cuando se necesita intercambiar datos entre diferentes sistemas o trabajar con datos en aplicaciones que no admiten formatos más complejos."
      ]
    },
    {
      "cell_type": "markdown",
      "metadata": {
        "id": "M4dzG5JOPucz"
      },
      "source": [
        "### Información del conjunto de datos: Saber 11° 2020-2"
      ]
    },
    {
      "cell_type": "markdown",
      "metadata": {
        "id": "xpng-DysPucz"
      },
      "source": [
        "- Objetivo: Consumir y construir un DataFrame con resultados de las pruebas saber 11° correspondientes al segundo semestre del año 2019.\n",
        "\n",
        "- Esta fuente de datos es extraida de [Datos Abiertos Colombia](https://www.datos.gov.co/) , Los datos abiertos son información pública dispuesta en formatos que permiten su uso y reutilización bajo licencia abierta y sin restricciones legales para su aprovechamiento.\n",
        "\n",
        "- Este conjunto de datos, está compuesto por datos anonimizados sobre los resultados y características de los resultados de las pruebas saber 11 correspondientes al segundo semestre del año 2020"
      ]
    },
    {
      "cell_type": "markdown",
      "metadata": {
        "id": "s4ArsJ25Pucz"
      },
      "source": [
        "### Ficha técnica:"
      ]
    },
    {
      "cell_type": "markdown",
      "metadata": {
        "id": "UWC4r84cPuc0"
      },
      "source": [
        "Información General:\n",
        "\n",
        "- Fuente de datos: [Datos abiertos Colombia - Saber 11° 2020-2](https://www.datos.gov.co/Educaci-n/Saber-11-2020-2/rnvb-vnyh/about_data)\n",
        "- Fecha de creación: 15 de marzo de 2021\n",
        "- Filas: 504.872\n",
        "- Columnas: 81\n",
        "- Vistas: 13,6k (a la fecha de descarga)\n",
        "- Descargas: 5221 (a la fecha de descarga)\n",
        "\n",
        "Información de la entidad:\n",
        "\n",
        "- Área o dependencia: Oficina Asesora de Planeación\n",
        "- Nombre de la entidad: Instituto Colombiano para la Evaluación de la Educación\n",
        "- Departamento: Bogotá D.C.\n",
        "- Municipio: Bogotá D.C.\n",
        "- Orden: Nacional\n",
        "- Sector: Educación\n",
        "\n",
        "Información del conjunto de datos:\n",
        "\n",
        "- Idioma: Español\n",
        "- URL de documenación: http://www.icfes.gov.co/investigadores-y-estudiantes-posgrado/acceso-a-bases-de-datos\n",
        "- URL de normativa: http://www.icfes.gov.co/normatividad\n",
        "\n",
        "Temas:\n",
        "\n",
        "- Categoría: Educación\n",
        "- Etiquetas: `pruebas icfes`,`icfes`,`saber 11`,`resultados`"
      ]
    },
    {
      "cell_type": "markdown",
      "metadata": {
        "id": "MEmexGoVPuc0"
      },
      "source": [
        "### Conexión y consulta a la fuente de datos"
      ]
    },
    {
      "cell_type": "code",
      "execution_count": 31,
      "metadata": {
        "id": "j5VFUMx1Puc0",
        "colab": {
          "base_uri": "https://localhost:8080/"
        },
        "outputId": "5265a498-f510-4da7-b3cf-2384ac9c9aa3"
      },
      "outputs": [
        {
          "output_type": "stream",
          "name": "stdout",
          "text": [
            "Mounted at /content/drive\n"
          ]
        },
        {
          "output_type": "stream",
          "name": "stderr",
          "text": [
            "<ipython-input-31-ec86f71b4370>:10: DtypeWarning: Columns (76,78) have mixed types. Specify dtype option on import or set low_memory=False.\n",
            "  df_resultados_2019_2 = pd.read_csv(\"/content/drive/MyDrive/Colab Notebooks/Saber_11_2019-2.csv\")\n"
          ]
        },
        {
          "output_type": "stream",
          "name": "stdout",
          "text": [
            "El data set se cargó de manera exitosa\n"
          ]
        }
      ],
      "source": [
        "  # Conectar google colab con google drive:\n",
        "\n",
        "  from google.colab import drive\n",
        "  drive.mount('/content/drive', force_remount=True)\n",
        "\n",
        "  # Leer el archivo CSV ubicado en la ruta especificada y asigna los datos a la variable df_resultados\n",
        "\n",
        "try:\n",
        "    df_resultados_2018_1 = pd.read_csv(\"/content/drive/MyDrive/Colab Notebooks/Saber_11_2018_1.csv\")\n",
        "    df_resultados_2019_2 = pd.read_csv(\"/content/drive/MyDrive/Colab Notebooks/Saber_11_2019-2.csv\")\n",
        "    df_resultados_2020_1 = pd.read_csv(\"/content/drive/MyDrive/Colab Notebooks/Saber_11_2020-1.csv\")\n",
        "    df_resultados_2020_2 = pd.read_csv(\"/content/drive/MyDrive/Colab Notebooks/Saber_11_2020-2.csv\")\n",
        "    df_resultados_2021_1 = pd.read_csv(\"/content/drive/MyDrive/Colab Notebooks/Saber_11_2021_1.csv\")\n",
        "    df_resultados_2022_4 = pd.read_csv(\"/content/drive/MyDrive/Colab Notebooks/Saber_11_2022_4.csv\")\n",
        "\n",
        "    # Si la lectura del archivo es exitosa, imprime un mensaje indicando que el dataset se cargó correctamente\n",
        "\n",
        "    print(\"El dataset se cargó de manera exitosa\")\n",
        "\n",
        "\n",
        "# Si se produce un error específico de \"FileNotFoundError\" (archivo no encontrado), ejecuta este bloque de código\n",
        "except FileNotFoundError as e:\n",
        "\n",
        "    # Imprime un mensaje de error personalizado indicando que el archivo no se pudo encontrar, junto con los detalles específicos del error\n",
        "    print(f\"Error. El archivo no se puede encontrar. Detalles: {e}\")\n",
        "\n",
        "\n",
        "# Si se produce cualquier otro tipo de error, ejecuta este bloque de código\n",
        "\n",
        "except Exception as ex:\n",
        "\n",
        "    # Imprime un mensaje de error genérico indicando que ocurrió un error inesperado, junto con los detalles específicos del error\n",
        "\n",
        "    print(f\"Error. El archivo no se puede encontrar. Detalles: {ex}\")"
      ]
    },
    {
      "cell_type": "code",
      "source": [],
      "metadata": {
        "id": "tPcyM7emhAHe",
        "colab": {
          "base_uri": "https://localhost:8080/"
        },
        "outputId": "c80c4d32-50f5-43e6-f41d-0f15cd3e9ea9"
      },
      "execution_count": null,
      "outputs": [
        {
          "output_type": "stream",
          "name": "stdout",
          "text": [
            "Drive already mounted at /content/drive; to attempt to forcibly remount, call drive.mount(\"/content/drive\", force_remount=True).\n"
          ]
        }
      ]
    },
    {
      "cell_type": "markdown",
      "metadata": {
        "id": "riQjGoO4Puc0"
      },
      "source": [
        "Un \"DataFrame\" y un \"dataset\" son conceptos relacionados, pero tienen significados ligeramente diferentes en el contexto de la programación y el análisis de datos:\n",
        "\n",
        "`Dataset`:\n",
        "\n",
        "- Un dataset, o conjunto de datos en español, es simplemente una colección de datos organizados que se utiliza para algún propósito específico.\n",
        "- Puede ser cualquier conjunto de datos, ya sea en forma de tabla, texto, imágenes, audios, etc., que se recopila y organiza para su análisis o procesamiento.\n",
        "- Un dataset puede representar datos de cualquier dominio, como datos financieros, datos de ventas, datos de encuestas, datos científicos, entre otros.\n",
        "-\n",
        "\n",
        "`DataFrame`:\n",
        "\n",
        "- Un DataFrame es una estructura de datos bidimensional que se utiliza comúnmente en el análisis de datos, especialmente en el lenguaje de programación Python con la librería pandas.\n",
        "- Se organiza en filas y columnas, similar a una tabla en una base de datos o una hoja de cálculo.\n",
        "- ada columna en un DataFrame puede tener un tipo de datos diferente (como números, cadenas de texto, fechas, etc.), y cada fila representa un registro o una observación.\n",
        "- Los DataFrames son extremadamente útiles para manipular y analizar datos de forma eficiente debido a las numerosas funciones y métodos que proporcionan las librerías como pandas.\n",
        "\n",
        "En resumen, un `DataFrame` es una estructura específica utilizada para representar datos tabulares en Python, mientras que un `dataset` es una colección más general de datos que puede tener cualquier forma o tipo, y que se utiliza en diversas aplicaciones de análisis y procesamiento de datos."
      ]
    },
    {
      "cell_type": "code",
      "execution_count": 76,
      "metadata": {
        "id": "H2N7TGQZPuc0"
      },
      "outputs": [],
      "source": [
        "# Se crea un DataFrame nuevo, utilizando los datos existentes del dataset\n",
        "\n",
        "df_resultados_2020_2 = pd.DataFrame(df_resultados_2020_2)\n"
      ]
    },
    {
      "cell_type": "code",
      "execution_count": 77,
      "metadata": {
        "id": "jDjg73-kPuc0",
        "colab": {
          "base_uri": "https://localhost:8080/"
        },
        "outputId": "5b114a43-82ee-433e-d79b-76d7b0407ba0"
      },
      "outputs": [
        {
          "output_type": "stream",
          "name": "stdout",
          "text": [
            "El Dataframe tiene 504872 filas y 81\n"
          ]
        }
      ],
      "source": [
        "# Consulta y validación de la cantidad de filas y columnas del dataframe\n",
        "\n",
        "num_rows, num_cols = df_resultados_2020_2.shape\n",
        "\n",
        "# Imprimir mensaje y valores de salidas del dataframe\n",
        "\n",
        "print(f\"El Dataframe tiene {num_rows} filas y {num_cols}\")"
      ]
    },
    {
      "cell_type": "code",
      "execution_count": 78,
      "metadata": {
        "id": "g53FLAS1Puc0",
        "colab": {
          "base_uri": "https://localhost:8080/",
          "height": 496
        },
        "outputId": "8dee35a2-65dc-43d8-fdd0-4dd35a74fa33"
      },
      "outputs": [
        {
          "output_type": "execute_result",
          "data": {
            "text/plain": [
              "       ESTU_TIPODOCUMENTO ESTU_NACIONALIDAD ESTU_GENERO  \\\n",
              "0                      TI             SUIZA           F   \n",
              "1                     PEP         VENEZUELA           M   \n",
              "2                      TI         VENEZUELA           F   \n",
              "3                      CE         VENEZUELA           M   \n",
              "4                      TI          COLOMBIA           F   \n",
              "...                   ...               ...         ...   \n",
              "504867                 TI          COLOMBIA           M   \n",
              "504868                 CC          COLOMBIA           M   \n",
              "504869                 TI          COLOMBIA           F   \n",
              "504870                 TI          COLOMBIA           M   \n",
              "504871                 TI          COLOMBIA           F   \n",
              "\n",
              "          ESTU_FECHANACIMIENTO  PERIODO  ESTU_CONSECUTIVO ESTU_ESTUDIANTE  \\\n",
              "0       03/03/2003 12:00:00 AM    20204  SB11202040211436      ESTUDIANTE   \n",
              "1       05/10/2002 12:00:00 AM    20204  SB11202040433216      ESTUDIANTE   \n",
              "2       12/14/2003 12:00:00 AM    20204  SB11202040244180      ESTUDIANTE   \n",
              "3       04/12/2003 12:00:00 AM    20204  SB11202040210971      ESTUDIANTE   \n",
              "4       03/03/2004 12:00:00 AM    20204  SB11202040235382      ESTUDIANTE   \n",
              "...                        ...      ...               ...             ...   \n",
              "504867  12/26/2003 12:00:00 AM    20204  SB11202040105446      ESTUDIANTE   \n",
              "504868  10/27/1996 12:00:00 AM    20204  SB11202040168415      ESTUDIANTE   \n",
              "504869  01/14/2005 12:00:00 AM    20204  SB11202040185843      ESTUDIANTE   \n",
              "504870  06/14/2002 12:00:00 AM    20204  SB11202040168607      ESTUDIANTE   \n",
              "504871  02/20/2002 12:00:00 AM    20204  SB11202040525571      ESTUDIANTE   \n",
              "\n",
              "       ESTU_PAIS_RESIDE ESTU_TIENEETNIA ESTU_DEPTO_RESIDE  ...  PUNT_INGLES  \\\n",
              "0                 SUIZA              No      CUNDINAMARCA  ...         55.0   \n",
              "1             VENEZUELA              No      CUNDINAMARCA  ...         33.0   \n",
              "2             VENEZUELA              No      CUNDINAMARCA  ...         59.0   \n",
              "3             VENEZUELA              No      CUNDINAMARCA  ...         47.0   \n",
              "4              COLOMBIA              No      CUNDINAMARCA  ...         43.0   \n",
              "...                 ...             ...               ...  ...          ...   \n",
              "504867         COLOMBIA              No            BOGOTÁ  ...         45.0   \n",
              "504868         COLOMBIA              No            BOGOTÁ  ...         54.0   \n",
              "504869         COLOMBIA              No            BOGOTÁ  ...         67.0   \n",
              "504870         COLOMBIA              No            BOGOTÁ  ...         52.0   \n",
              "504871         COLOMBIA              No            BOGOTÁ  ...         48.0   \n",
              "\n",
              "       PERCENTIL_INGLES  DESEMP_INGLES PUNT_GLOBAL PERCENTIL_GLOBAL  \\\n",
              "0                    81             A1         244               49   \n",
              "1                     6             A-         238               44   \n",
              "2                    87             A2         325               94   \n",
              "3                    58             A-         238               45   \n",
              "4                    40             A-         202               19   \n",
              "...                 ...            ...         ...              ...   \n",
              "504867               52             A-         282               75   \n",
              "504868               79             A1         257               59   \n",
              "504869               93             A2         330               95   \n",
              "504870               75             A1         290               80   \n",
              "504871               63             A1         261               61   \n",
              "\n",
              "       ESTU_INSE_INDIVIDUAL ESTU_NSE_INDIVIDUAL ESTU_NSE_ESTABLECIMIENTO  \\\n",
              "0                 54.882365                 3.0                      3.0   \n",
              "1                 49.252311                 2.0                      2.0   \n",
              "2                 40.733672                 1.0                      3.0   \n",
              "3                 48.217953                 2.0                      3.0   \n",
              "4                 60.912192                 3.0                      3.0   \n",
              "...                     ...                 ...                      ...   \n",
              "504867            45.311449                 2.0                      2.0   \n",
              "504868            38.124729                 1.0                      3.0   \n",
              "504869            53.586443                 3.0                      3.0   \n",
              "504870            58.316936                 3.0                      3.0   \n",
              "504871            57.375730                 3.0                      3.0   \n",
              "\n",
              "       ESTU_ESTADOINVESTIGACION         ESTU_GENERACION-E  \n",
              "0                      PUBLICAR                        NO  \n",
              "1                      PUBLICAR                        NO  \n",
              "2                      PUBLICAR  GENERACION E - GRATUIDAD  \n",
              "3                      PUBLICAR                        NO  \n",
              "4                      PUBLICAR                        NO  \n",
              "...                         ...                       ...  \n",
              "504867                 PUBLICAR                        NO  \n",
              "504868                 PUBLICAR                        NO  \n",
              "504869                 PUBLICAR                        NO  \n",
              "504870                 PUBLICAR                        NO  \n",
              "504871                 PUBLICAR  GENERACION E - GRATUIDAD  \n",
              "\n",
              "[504872 rows x 81 columns]"
            ],
            "text/html": [
              "\n",
              "  <div id=\"df-4ee60bea-16b4-43e9-af7e-658ed5ca0339\" class=\"colab-df-container\">\n",
              "    <div>\n",
              "<style scoped>\n",
              "    .dataframe tbody tr th:only-of-type {\n",
              "        vertical-align: middle;\n",
              "    }\n",
              "\n",
              "    .dataframe tbody tr th {\n",
              "        vertical-align: top;\n",
              "    }\n",
              "\n",
              "    .dataframe thead th {\n",
              "        text-align: right;\n",
              "    }\n",
              "</style>\n",
              "<table border=\"1\" class=\"dataframe\">\n",
              "  <thead>\n",
              "    <tr style=\"text-align: right;\">\n",
              "      <th></th>\n",
              "      <th>ESTU_TIPODOCUMENTO</th>\n",
              "      <th>ESTU_NACIONALIDAD</th>\n",
              "      <th>ESTU_GENERO</th>\n",
              "      <th>ESTU_FECHANACIMIENTO</th>\n",
              "      <th>PERIODO</th>\n",
              "      <th>ESTU_CONSECUTIVO</th>\n",
              "      <th>ESTU_ESTUDIANTE</th>\n",
              "      <th>ESTU_PAIS_RESIDE</th>\n",
              "      <th>ESTU_TIENEETNIA</th>\n",
              "      <th>ESTU_DEPTO_RESIDE</th>\n",
              "      <th>...</th>\n",
              "      <th>PUNT_INGLES</th>\n",
              "      <th>PERCENTIL_INGLES</th>\n",
              "      <th>DESEMP_INGLES</th>\n",
              "      <th>PUNT_GLOBAL</th>\n",
              "      <th>PERCENTIL_GLOBAL</th>\n",
              "      <th>ESTU_INSE_INDIVIDUAL</th>\n",
              "      <th>ESTU_NSE_INDIVIDUAL</th>\n",
              "      <th>ESTU_NSE_ESTABLECIMIENTO</th>\n",
              "      <th>ESTU_ESTADOINVESTIGACION</th>\n",
              "      <th>ESTU_GENERACION-E</th>\n",
              "    </tr>\n",
              "  </thead>\n",
              "  <tbody>\n",
              "    <tr>\n",
              "      <th>0</th>\n",
              "      <td>TI</td>\n",
              "      <td>SUIZA</td>\n",
              "      <td>F</td>\n",
              "      <td>03/03/2003 12:00:00 AM</td>\n",
              "      <td>20204</td>\n",
              "      <td>SB11202040211436</td>\n",
              "      <td>ESTUDIANTE</td>\n",
              "      <td>SUIZA</td>\n",
              "      <td>No</td>\n",
              "      <td>CUNDINAMARCA</td>\n",
              "      <td>...</td>\n",
              "      <td>55.0</td>\n",
              "      <td>81</td>\n",
              "      <td>A1</td>\n",
              "      <td>244</td>\n",
              "      <td>49</td>\n",
              "      <td>54.882365</td>\n",
              "      <td>3.0</td>\n",
              "      <td>3.0</td>\n",
              "      <td>PUBLICAR</td>\n",
              "      <td>NO</td>\n",
              "    </tr>\n",
              "    <tr>\n",
              "      <th>1</th>\n",
              "      <td>PEP</td>\n",
              "      <td>VENEZUELA</td>\n",
              "      <td>M</td>\n",
              "      <td>05/10/2002 12:00:00 AM</td>\n",
              "      <td>20204</td>\n",
              "      <td>SB11202040433216</td>\n",
              "      <td>ESTUDIANTE</td>\n",
              "      <td>VENEZUELA</td>\n",
              "      <td>No</td>\n",
              "      <td>CUNDINAMARCA</td>\n",
              "      <td>...</td>\n",
              "      <td>33.0</td>\n",
              "      <td>6</td>\n",
              "      <td>A-</td>\n",
              "      <td>238</td>\n",
              "      <td>44</td>\n",
              "      <td>49.252311</td>\n",
              "      <td>2.0</td>\n",
              "      <td>2.0</td>\n",
              "      <td>PUBLICAR</td>\n",
              "      <td>NO</td>\n",
              "    </tr>\n",
              "    <tr>\n",
              "      <th>2</th>\n",
              "      <td>TI</td>\n",
              "      <td>VENEZUELA</td>\n",
              "      <td>F</td>\n",
              "      <td>12/14/2003 12:00:00 AM</td>\n",
              "      <td>20204</td>\n",
              "      <td>SB11202040244180</td>\n",
              "      <td>ESTUDIANTE</td>\n",
              "      <td>VENEZUELA</td>\n",
              "      <td>No</td>\n",
              "      <td>CUNDINAMARCA</td>\n",
              "      <td>...</td>\n",
              "      <td>59.0</td>\n",
              "      <td>87</td>\n",
              "      <td>A2</td>\n",
              "      <td>325</td>\n",
              "      <td>94</td>\n",
              "      <td>40.733672</td>\n",
              "      <td>1.0</td>\n",
              "      <td>3.0</td>\n",
              "      <td>PUBLICAR</td>\n",
              "      <td>GENERACION E - GRATUIDAD</td>\n",
              "    </tr>\n",
              "    <tr>\n",
              "      <th>3</th>\n",
              "      <td>CE</td>\n",
              "      <td>VENEZUELA</td>\n",
              "      <td>M</td>\n",
              "      <td>04/12/2003 12:00:00 AM</td>\n",
              "      <td>20204</td>\n",
              "      <td>SB11202040210971</td>\n",
              "      <td>ESTUDIANTE</td>\n",
              "      <td>VENEZUELA</td>\n",
              "      <td>No</td>\n",
              "      <td>CUNDINAMARCA</td>\n",
              "      <td>...</td>\n",
              "      <td>47.0</td>\n",
              "      <td>58</td>\n",
              "      <td>A-</td>\n",
              "      <td>238</td>\n",
              "      <td>45</td>\n",
              "      <td>48.217953</td>\n",
              "      <td>2.0</td>\n",
              "      <td>3.0</td>\n",
              "      <td>PUBLICAR</td>\n",
              "      <td>NO</td>\n",
              "    </tr>\n",
              "    <tr>\n",
              "      <th>4</th>\n",
              "      <td>TI</td>\n",
              "      <td>COLOMBIA</td>\n",
              "      <td>F</td>\n",
              "      <td>03/03/2004 12:00:00 AM</td>\n",
              "      <td>20204</td>\n",
              "      <td>SB11202040235382</td>\n",
              "      <td>ESTUDIANTE</td>\n",
              "      <td>COLOMBIA</td>\n",
              "      <td>No</td>\n",
              "      <td>CUNDINAMARCA</td>\n",
              "      <td>...</td>\n",
              "      <td>43.0</td>\n",
              "      <td>40</td>\n",
              "      <td>A-</td>\n",
              "      <td>202</td>\n",
              "      <td>19</td>\n",
              "      <td>60.912192</td>\n",
              "      <td>3.0</td>\n",
              "      <td>3.0</td>\n",
              "      <td>PUBLICAR</td>\n",
              "      <td>NO</td>\n",
              "    </tr>\n",
              "    <tr>\n",
              "      <th>...</th>\n",
              "      <td>...</td>\n",
              "      <td>...</td>\n",
              "      <td>...</td>\n",
              "      <td>...</td>\n",
              "      <td>...</td>\n",
              "      <td>...</td>\n",
              "      <td>...</td>\n",
              "      <td>...</td>\n",
              "      <td>...</td>\n",
              "      <td>...</td>\n",
              "      <td>...</td>\n",
              "      <td>...</td>\n",
              "      <td>...</td>\n",
              "      <td>...</td>\n",
              "      <td>...</td>\n",
              "      <td>...</td>\n",
              "      <td>...</td>\n",
              "      <td>...</td>\n",
              "      <td>...</td>\n",
              "      <td>...</td>\n",
              "      <td>...</td>\n",
              "    </tr>\n",
              "    <tr>\n",
              "      <th>504867</th>\n",
              "      <td>TI</td>\n",
              "      <td>COLOMBIA</td>\n",
              "      <td>M</td>\n",
              "      <td>12/26/2003 12:00:00 AM</td>\n",
              "      <td>20204</td>\n",
              "      <td>SB11202040105446</td>\n",
              "      <td>ESTUDIANTE</td>\n",
              "      <td>COLOMBIA</td>\n",
              "      <td>No</td>\n",
              "      <td>BOGOTÁ</td>\n",
              "      <td>...</td>\n",
              "      <td>45.0</td>\n",
              "      <td>52</td>\n",
              "      <td>A-</td>\n",
              "      <td>282</td>\n",
              "      <td>75</td>\n",
              "      <td>45.311449</td>\n",
              "      <td>2.0</td>\n",
              "      <td>2.0</td>\n",
              "      <td>PUBLICAR</td>\n",
              "      <td>NO</td>\n",
              "    </tr>\n",
              "    <tr>\n",
              "      <th>504868</th>\n",
              "      <td>CC</td>\n",
              "      <td>COLOMBIA</td>\n",
              "      <td>M</td>\n",
              "      <td>10/27/1996 12:00:00 AM</td>\n",
              "      <td>20204</td>\n",
              "      <td>SB11202040168415</td>\n",
              "      <td>ESTUDIANTE</td>\n",
              "      <td>COLOMBIA</td>\n",
              "      <td>No</td>\n",
              "      <td>BOGOTÁ</td>\n",
              "      <td>...</td>\n",
              "      <td>54.0</td>\n",
              "      <td>79</td>\n",
              "      <td>A1</td>\n",
              "      <td>257</td>\n",
              "      <td>59</td>\n",
              "      <td>38.124729</td>\n",
              "      <td>1.0</td>\n",
              "      <td>3.0</td>\n",
              "      <td>PUBLICAR</td>\n",
              "      <td>NO</td>\n",
              "    </tr>\n",
              "    <tr>\n",
              "      <th>504869</th>\n",
              "      <td>TI</td>\n",
              "      <td>COLOMBIA</td>\n",
              "      <td>F</td>\n",
              "      <td>01/14/2005 12:00:00 AM</td>\n",
              "      <td>20204</td>\n",
              "      <td>SB11202040185843</td>\n",
              "      <td>ESTUDIANTE</td>\n",
              "      <td>COLOMBIA</td>\n",
              "      <td>No</td>\n",
              "      <td>BOGOTÁ</td>\n",
              "      <td>...</td>\n",
              "      <td>67.0</td>\n",
              "      <td>93</td>\n",
              "      <td>A2</td>\n",
              "      <td>330</td>\n",
              "      <td>95</td>\n",
              "      <td>53.586443</td>\n",
              "      <td>3.0</td>\n",
              "      <td>3.0</td>\n",
              "      <td>PUBLICAR</td>\n",
              "      <td>NO</td>\n",
              "    </tr>\n",
              "    <tr>\n",
              "      <th>504870</th>\n",
              "      <td>TI</td>\n",
              "      <td>COLOMBIA</td>\n",
              "      <td>M</td>\n",
              "      <td>06/14/2002 12:00:00 AM</td>\n",
              "      <td>20204</td>\n",
              "      <td>SB11202040168607</td>\n",
              "      <td>ESTUDIANTE</td>\n",
              "      <td>COLOMBIA</td>\n",
              "      <td>No</td>\n",
              "      <td>BOGOTÁ</td>\n",
              "      <td>...</td>\n",
              "      <td>52.0</td>\n",
              "      <td>75</td>\n",
              "      <td>A1</td>\n",
              "      <td>290</td>\n",
              "      <td>80</td>\n",
              "      <td>58.316936</td>\n",
              "      <td>3.0</td>\n",
              "      <td>3.0</td>\n",
              "      <td>PUBLICAR</td>\n",
              "      <td>NO</td>\n",
              "    </tr>\n",
              "    <tr>\n",
              "      <th>504871</th>\n",
              "      <td>TI</td>\n",
              "      <td>COLOMBIA</td>\n",
              "      <td>F</td>\n",
              "      <td>02/20/2002 12:00:00 AM</td>\n",
              "      <td>20204</td>\n",
              "      <td>SB11202040525571</td>\n",
              "      <td>ESTUDIANTE</td>\n",
              "      <td>COLOMBIA</td>\n",
              "      <td>No</td>\n",
              "      <td>BOGOTÁ</td>\n",
              "      <td>...</td>\n",
              "      <td>48.0</td>\n",
              "      <td>63</td>\n",
              "      <td>A1</td>\n",
              "      <td>261</td>\n",
              "      <td>61</td>\n",
              "      <td>57.375730</td>\n",
              "      <td>3.0</td>\n",
              "      <td>3.0</td>\n",
              "      <td>PUBLICAR</td>\n",
              "      <td>GENERACION E - GRATUIDAD</td>\n",
              "    </tr>\n",
              "  </tbody>\n",
              "</table>\n",
              "<p>504872 rows × 81 columns</p>\n",
              "</div>\n",
              "    <div class=\"colab-df-buttons\">\n",
              "\n",
              "  <div class=\"colab-df-container\">\n",
              "    <button class=\"colab-df-convert\" onclick=\"convertToInteractive('df-4ee60bea-16b4-43e9-af7e-658ed5ca0339')\"\n",
              "            title=\"Convert this dataframe to an interactive table.\"\n",
              "            style=\"display:none;\">\n",
              "\n",
              "  <svg xmlns=\"http://www.w3.org/2000/svg\" height=\"24px\" viewBox=\"0 -960 960 960\">\n",
              "    <path d=\"M120-120v-720h720v720H120Zm60-500h600v-160H180v160Zm220 220h160v-160H400v160Zm0 220h160v-160H400v160ZM180-400h160v-160H180v160Zm440 0h160v-160H620v160ZM180-180h160v-160H180v160Zm440 0h160v-160H620v160Z\"/>\n",
              "  </svg>\n",
              "    </button>\n",
              "\n",
              "  <style>\n",
              "    .colab-df-container {\n",
              "      display:flex;\n",
              "      gap: 12px;\n",
              "    }\n",
              "\n",
              "    .colab-df-convert {\n",
              "      background-color: #E8F0FE;\n",
              "      border: none;\n",
              "      border-radius: 50%;\n",
              "      cursor: pointer;\n",
              "      display: none;\n",
              "      fill: #1967D2;\n",
              "      height: 32px;\n",
              "      padding: 0 0 0 0;\n",
              "      width: 32px;\n",
              "    }\n",
              "\n",
              "    .colab-df-convert:hover {\n",
              "      background-color: #E2EBFA;\n",
              "      box-shadow: 0px 1px 2px rgba(60, 64, 67, 0.3), 0px 1px 3px 1px rgba(60, 64, 67, 0.15);\n",
              "      fill: #174EA6;\n",
              "    }\n",
              "\n",
              "    .colab-df-buttons div {\n",
              "      margin-bottom: 4px;\n",
              "    }\n",
              "\n",
              "    [theme=dark] .colab-df-convert {\n",
              "      background-color: #3B4455;\n",
              "      fill: #D2E3FC;\n",
              "    }\n",
              "\n",
              "    [theme=dark] .colab-df-convert:hover {\n",
              "      background-color: #434B5C;\n",
              "      box-shadow: 0px 1px 3px 1px rgba(0, 0, 0, 0.15);\n",
              "      filter: drop-shadow(0px 1px 2px rgba(0, 0, 0, 0.3));\n",
              "      fill: #FFFFFF;\n",
              "    }\n",
              "  </style>\n",
              "\n",
              "    <script>\n",
              "      const buttonEl =\n",
              "        document.querySelector('#df-4ee60bea-16b4-43e9-af7e-658ed5ca0339 button.colab-df-convert');\n",
              "      buttonEl.style.display =\n",
              "        google.colab.kernel.accessAllowed ? 'block' : 'none';\n",
              "\n",
              "      async function convertToInteractive(key) {\n",
              "        const element = document.querySelector('#df-4ee60bea-16b4-43e9-af7e-658ed5ca0339');\n",
              "        const dataTable =\n",
              "          await google.colab.kernel.invokeFunction('convertToInteractive',\n",
              "                                                    [key], {});\n",
              "        if (!dataTable) return;\n",
              "\n",
              "        const docLinkHtml = 'Like what you see? Visit the ' +\n",
              "          '<a target=\"_blank\" href=https://colab.research.google.com/notebooks/data_table.ipynb>data table notebook</a>'\n",
              "          + ' to learn more about interactive tables.';\n",
              "        element.innerHTML = '';\n",
              "        dataTable['output_type'] = 'display_data';\n",
              "        await google.colab.output.renderOutput(dataTable, element);\n",
              "        const docLink = document.createElement('div');\n",
              "        docLink.innerHTML = docLinkHtml;\n",
              "        element.appendChild(docLink);\n",
              "      }\n",
              "    </script>\n",
              "  </div>\n",
              "\n",
              "\n",
              "<div id=\"df-3a0041a3-08d0-403b-96bf-ce9b80b37d7b\">\n",
              "  <button class=\"colab-df-quickchart\" onclick=\"quickchart('df-3a0041a3-08d0-403b-96bf-ce9b80b37d7b')\"\n",
              "            title=\"Suggest charts\"\n",
              "            style=\"display:none;\">\n",
              "\n",
              "<svg xmlns=\"http://www.w3.org/2000/svg\" height=\"24px\"viewBox=\"0 0 24 24\"\n",
              "     width=\"24px\">\n",
              "    <g>\n",
              "        <path d=\"M19 3H5c-1.1 0-2 .9-2 2v14c0 1.1.9 2 2 2h14c1.1 0 2-.9 2-2V5c0-1.1-.9-2-2-2zM9 17H7v-7h2v7zm4 0h-2V7h2v10zm4 0h-2v-4h2v4z\"/>\n",
              "    </g>\n",
              "</svg>\n",
              "  </button>\n",
              "\n",
              "<style>\n",
              "  .colab-df-quickchart {\n",
              "      --bg-color: #E8F0FE;\n",
              "      --fill-color: #1967D2;\n",
              "      --hover-bg-color: #E2EBFA;\n",
              "      --hover-fill-color: #174EA6;\n",
              "      --disabled-fill-color: #AAA;\n",
              "      --disabled-bg-color: #DDD;\n",
              "  }\n",
              "\n",
              "  [theme=dark] .colab-df-quickchart {\n",
              "      --bg-color: #3B4455;\n",
              "      --fill-color: #D2E3FC;\n",
              "      --hover-bg-color: #434B5C;\n",
              "      --hover-fill-color: #FFFFFF;\n",
              "      --disabled-bg-color: #3B4455;\n",
              "      --disabled-fill-color: #666;\n",
              "  }\n",
              "\n",
              "  .colab-df-quickchart {\n",
              "    background-color: var(--bg-color);\n",
              "    border: none;\n",
              "    border-radius: 50%;\n",
              "    cursor: pointer;\n",
              "    display: none;\n",
              "    fill: var(--fill-color);\n",
              "    height: 32px;\n",
              "    padding: 0;\n",
              "    width: 32px;\n",
              "  }\n",
              "\n",
              "  .colab-df-quickchart:hover {\n",
              "    background-color: var(--hover-bg-color);\n",
              "    box-shadow: 0 1px 2px rgba(60, 64, 67, 0.3), 0 1px 3px 1px rgba(60, 64, 67, 0.15);\n",
              "    fill: var(--button-hover-fill-color);\n",
              "  }\n",
              "\n",
              "  .colab-df-quickchart-complete:disabled,\n",
              "  .colab-df-quickchart-complete:disabled:hover {\n",
              "    background-color: var(--disabled-bg-color);\n",
              "    fill: var(--disabled-fill-color);\n",
              "    box-shadow: none;\n",
              "  }\n",
              "\n",
              "  .colab-df-spinner {\n",
              "    border: 2px solid var(--fill-color);\n",
              "    border-color: transparent;\n",
              "    border-bottom-color: var(--fill-color);\n",
              "    animation:\n",
              "      spin 1s steps(1) infinite;\n",
              "  }\n",
              "\n",
              "  @keyframes spin {\n",
              "    0% {\n",
              "      border-color: transparent;\n",
              "      border-bottom-color: var(--fill-color);\n",
              "      border-left-color: var(--fill-color);\n",
              "    }\n",
              "    20% {\n",
              "      border-color: transparent;\n",
              "      border-left-color: var(--fill-color);\n",
              "      border-top-color: var(--fill-color);\n",
              "    }\n",
              "    30% {\n",
              "      border-color: transparent;\n",
              "      border-left-color: var(--fill-color);\n",
              "      border-top-color: var(--fill-color);\n",
              "      border-right-color: var(--fill-color);\n",
              "    }\n",
              "    40% {\n",
              "      border-color: transparent;\n",
              "      border-right-color: var(--fill-color);\n",
              "      border-top-color: var(--fill-color);\n",
              "    }\n",
              "    60% {\n",
              "      border-color: transparent;\n",
              "      border-right-color: var(--fill-color);\n",
              "    }\n",
              "    80% {\n",
              "      border-color: transparent;\n",
              "      border-right-color: var(--fill-color);\n",
              "      border-bottom-color: var(--fill-color);\n",
              "    }\n",
              "    90% {\n",
              "      border-color: transparent;\n",
              "      border-bottom-color: var(--fill-color);\n",
              "    }\n",
              "  }\n",
              "</style>\n",
              "\n",
              "  <script>\n",
              "    async function quickchart(key) {\n",
              "      const quickchartButtonEl =\n",
              "        document.querySelector('#' + key + ' button');\n",
              "      quickchartButtonEl.disabled = true;  // To prevent multiple clicks.\n",
              "      quickchartButtonEl.classList.add('colab-df-spinner');\n",
              "      try {\n",
              "        const charts = await google.colab.kernel.invokeFunction(\n",
              "            'suggestCharts', [key], {});\n",
              "      } catch (error) {\n",
              "        console.error('Error during call to suggestCharts:', error);\n",
              "      }\n",
              "      quickchartButtonEl.classList.remove('colab-df-spinner');\n",
              "      quickchartButtonEl.classList.add('colab-df-quickchart-complete');\n",
              "    }\n",
              "    (() => {\n",
              "      let quickchartButtonEl =\n",
              "        document.querySelector('#df-3a0041a3-08d0-403b-96bf-ce9b80b37d7b button');\n",
              "      quickchartButtonEl.style.display =\n",
              "        google.colab.kernel.accessAllowed ? 'block' : 'none';\n",
              "    })();\n",
              "  </script>\n",
              "</div>\n",
              "\n",
              "  <div id=\"id_b44ee553-14ac-46bf-8701-e9598f047e21\">\n",
              "    <style>\n",
              "      .colab-df-generate {\n",
              "        background-color: #E8F0FE;\n",
              "        border: none;\n",
              "        border-radius: 50%;\n",
              "        cursor: pointer;\n",
              "        display: none;\n",
              "        fill: #1967D2;\n",
              "        height: 32px;\n",
              "        padding: 0 0 0 0;\n",
              "        width: 32px;\n",
              "      }\n",
              "\n",
              "      .colab-df-generate:hover {\n",
              "        background-color: #E2EBFA;\n",
              "        box-shadow: 0px 1px 2px rgba(60, 64, 67, 0.3), 0px 1px 3px 1px rgba(60, 64, 67, 0.15);\n",
              "        fill: #174EA6;\n",
              "      }\n",
              "\n",
              "      [theme=dark] .colab-df-generate {\n",
              "        background-color: #3B4455;\n",
              "        fill: #D2E3FC;\n",
              "      }\n",
              "\n",
              "      [theme=dark] .colab-df-generate:hover {\n",
              "        background-color: #434B5C;\n",
              "        box-shadow: 0px 1px 3px 1px rgba(0, 0, 0, 0.15);\n",
              "        filter: drop-shadow(0px 1px 2px rgba(0, 0, 0, 0.3));\n",
              "        fill: #FFFFFF;\n",
              "      }\n",
              "    </style>\n",
              "    <button class=\"colab-df-generate\" onclick=\"generateWithVariable('df_resultados_2020_2')\"\n",
              "            title=\"Generate code using this dataframe.\"\n",
              "            style=\"display:none;\">\n",
              "\n",
              "  <svg xmlns=\"http://www.w3.org/2000/svg\" height=\"24px\"viewBox=\"0 0 24 24\"\n",
              "       width=\"24px\">\n",
              "    <path d=\"M7,19H8.4L18.45,9,17,7.55,7,17.6ZM5,21V16.75L18.45,3.32a2,2,0,0,1,2.83,0l1.4,1.43a1.91,1.91,0,0,1,.58,1.4,1.91,1.91,0,0,1-.58,1.4L9.25,21ZM18.45,9,17,7.55Zm-12,3A5.31,5.31,0,0,0,4.9,8.1,5.31,5.31,0,0,0,1,6.5,5.31,5.31,0,0,0,4.9,4.9,5.31,5.31,0,0,0,6.5,1,5.31,5.31,0,0,0,8.1,4.9,5.31,5.31,0,0,0,12,6.5,5.46,5.46,0,0,0,6.5,12Z\"/>\n",
              "  </svg>\n",
              "    </button>\n",
              "    <script>\n",
              "      (() => {\n",
              "      const buttonEl =\n",
              "        document.querySelector('#id_b44ee553-14ac-46bf-8701-e9598f047e21 button.colab-df-generate');\n",
              "      buttonEl.style.display =\n",
              "        google.colab.kernel.accessAllowed ? 'block' : 'none';\n",
              "\n",
              "      buttonEl.onclick = () => {\n",
              "        google.colab.notebook.generateWithVariable('df_resultados_2020_2');\n",
              "      }\n",
              "      })();\n",
              "    </script>\n",
              "  </div>\n",
              "\n",
              "    </div>\n",
              "  </div>\n"
            ],
            "application/vnd.google.colaboratory.intrinsic+json": {
              "type": "dataframe",
              "variable_name": "df_resultados_2020_2"
            }
          },
          "metadata": {},
          "execution_count": 78
        }
      ],
      "source": [
        "#  Imprimir el dataframe\n",
        "\n",
        "df_resultados_2020_2"
      ]
    },
    {
      "cell_type": "code",
      "execution_count": 79,
      "metadata": {
        "id": "KZxrF5CsPuc0",
        "colab": {
          "base_uri": "https://localhost:8080/",
          "height": 259
        },
        "outputId": "c72da555-6f89-4a72-9c8f-b59a8285dee6"
      },
      "outputs": [
        {
          "output_type": "execute_result",
          "data": {
            "text/plain": [
              "  ESTU_TIPODOCUMENTO ESTU_NACIONALIDAD ESTU_GENERO    ESTU_FECHANACIMIENTO  \\\n",
              "0                 TI             SUIZA           F  03/03/2003 12:00:00 AM   \n",
              "1                PEP         VENEZUELA           M  05/10/2002 12:00:00 AM   \n",
              "2                 TI         VENEZUELA           F  12/14/2003 12:00:00 AM   \n",
              "3                 CE         VENEZUELA           M  04/12/2003 12:00:00 AM   \n",
              "\n",
              "   PERIODO  ESTU_CONSECUTIVO ESTU_ESTUDIANTE ESTU_PAIS_RESIDE ESTU_TIENEETNIA  \\\n",
              "0    20204  SB11202040211436      ESTUDIANTE            SUIZA              No   \n",
              "1    20204  SB11202040433216      ESTUDIANTE        VENEZUELA              No   \n",
              "2    20204  SB11202040244180      ESTUDIANTE        VENEZUELA              No   \n",
              "3    20204  SB11202040210971      ESTUDIANTE        VENEZUELA              No   \n",
              "\n",
              "  ESTU_DEPTO_RESIDE  ...  PUNT_INGLES PERCENTIL_INGLES  DESEMP_INGLES  \\\n",
              "0      CUNDINAMARCA  ...         55.0               81             A1   \n",
              "1      CUNDINAMARCA  ...         33.0                6             A-   \n",
              "2      CUNDINAMARCA  ...         59.0               87             A2   \n",
              "3      CUNDINAMARCA  ...         47.0               58             A-   \n",
              "\n",
              "  PUNT_GLOBAL PERCENTIL_GLOBAL ESTU_INSE_INDIVIDUAL ESTU_NSE_INDIVIDUAL  \\\n",
              "0         244               49            54.882365                 3.0   \n",
              "1         238               44            49.252311                 2.0   \n",
              "2         325               94            40.733672                 1.0   \n",
              "3         238               45            48.217953                 2.0   \n",
              "\n",
              "  ESTU_NSE_ESTABLECIMIENTO ESTU_ESTADOINVESTIGACION         ESTU_GENERACION-E  \n",
              "0                      3.0                 PUBLICAR                        NO  \n",
              "1                      2.0                 PUBLICAR                        NO  \n",
              "2                      3.0                 PUBLICAR  GENERACION E - GRATUIDAD  \n",
              "3                      3.0                 PUBLICAR                        NO  \n",
              "\n",
              "[4 rows x 81 columns]"
            ],
            "text/html": [
              "\n",
              "  <div id=\"df-4d8e541c-56aa-4077-87f4-818710133e1d\" class=\"colab-df-container\">\n",
              "    <div>\n",
              "<style scoped>\n",
              "    .dataframe tbody tr th:only-of-type {\n",
              "        vertical-align: middle;\n",
              "    }\n",
              "\n",
              "    .dataframe tbody tr th {\n",
              "        vertical-align: top;\n",
              "    }\n",
              "\n",
              "    .dataframe thead th {\n",
              "        text-align: right;\n",
              "    }\n",
              "</style>\n",
              "<table border=\"1\" class=\"dataframe\">\n",
              "  <thead>\n",
              "    <tr style=\"text-align: right;\">\n",
              "      <th></th>\n",
              "      <th>ESTU_TIPODOCUMENTO</th>\n",
              "      <th>ESTU_NACIONALIDAD</th>\n",
              "      <th>ESTU_GENERO</th>\n",
              "      <th>ESTU_FECHANACIMIENTO</th>\n",
              "      <th>PERIODO</th>\n",
              "      <th>ESTU_CONSECUTIVO</th>\n",
              "      <th>ESTU_ESTUDIANTE</th>\n",
              "      <th>ESTU_PAIS_RESIDE</th>\n",
              "      <th>ESTU_TIENEETNIA</th>\n",
              "      <th>ESTU_DEPTO_RESIDE</th>\n",
              "      <th>...</th>\n",
              "      <th>PUNT_INGLES</th>\n",
              "      <th>PERCENTIL_INGLES</th>\n",
              "      <th>DESEMP_INGLES</th>\n",
              "      <th>PUNT_GLOBAL</th>\n",
              "      <th>PERCENTIL_GLOBAL</th>\n",
              "      <th>ESTU_INSE_INDIVIDUAL</th>\n",
              "      <th>ESTU_NSE_INDIVIDUAL</th>\n",
              "      <th>ESTU_NSE_ESTABLECIMIENTO</th>\n",
              "      <th>ESTU_ESTADOINVESTIGACION</th>\n",
              "      <th>ESTU_GENERACION-E</th>\n",
              "    </tr>\n",
              "  </thead>\n",
              "  <tbody>\n",
              "    <tr>\n",
              "      <th>0</th>\n",
              "      <td>TI</td>\n",
              "      <td>SUIZA</td>\n",
              "      <td>F</td>\n",
              "      <td>03/03/2003 12:00:00 AM</td>\n",
              "      <td>20204</td>\n",
              "      <td>SB11202040211436</td>\n",
              "      <td>ESTUDIANTE</td>\n",
              "      <td>SUIZA</td>\n",
              "      <td>No</td>\n",
              "      <td>CUNDINAMARCA</td>\n",
              "      <td>...</td>\n",
              "      <td>55.0</td>\n",
              "      <td>81</td>\n",
              "      <td>A1</td>\n",
              "      <td>244</td>\n",
              "      <td>49</td>\n",
              "      <td>54.882365</td>\n",
              "      <td>3.0</td>\n",
              "      <td>3.0</td>\n",
              "      <td>PUBLICAR</td>\n",
              "      <td>NO</td>\n",
              "    </tr>\n",
              "    <tr>\n",
              "      <th>1</th>\n",
              "      <td>PEP</td>\n",
              "      <td>VENEZUELA</td>\n",
              "      <td>M</td>\n",
              "      <td>05/10/2002 12:00:00 AM</td>\n",
              "      <td>20204</td>\n",
              "      <td>SB11202040433216</td>\n",
              "      <td>ESTUDIANTE</td>\n",
              "      <td>VENEZUELA</td>\n",
              "      <td>No</td>\n",
              "      <td>CUNDINAMARCA</td>\n",
              "      <td>...</td>\n",
              "      <td>33.0</td>\n",
              "      <td>6</td>\n",
              "      <td>A-</td>\n",
              "      <td>238</td>\n",
              "      <td>44</td>\n",
              "      <td>49.252311</td>\n",
              "      <td>2.0</td>\n",
              "      <td>2.0</td>\n",
              "      <td>PUBLICAR</td>\n",
              "      <td>NO</td>\n",
              "    </tr>\n",
              "    <tr>\n",
              "      <th>2</th>\n",
              "      <td>TI</td>\n",
              "      <td>VENEZUELA</td>\n",
              "      <td>F</td>\n",
              "      <td>12/14/2003 12:00:00 AM</td>\n",
              "      <td>20204</td>\n",
              "      <td>SB11202040244180</td>\n",
              "      <td>ESTUDIANTE</td>\n",
              "      <td>VENEZUELA</td>\n",
              "      <td>No</td>\n",
              "      <td>CUNDINAMARCA</td>\n",
              "      <td>...</td>\n",
              "      <td>59.0</td>\n",
              "      <td>87</td>\n",
              "      <td>A2</td>\n",
              "      <td>325</td>\n",
              "      <td>94</td>\n",
              "      <td>40.733672</td>\n",
              "      <td>1.0</td>\n",
              "      <td>3.0</td>\n",
              "      <td>PUBLICAR</td>\n",
              "      <td>GENERACION E - GRATUIDAD</td>\n",
              "    </tr>\n",
              "    <tr>\n",
              "      <th>3</th>\n",
              "      <td>CE</td>\n",
              "      <td>VENEZUELA</td>\n",
              "      <td>M</td>\n",
              "      <td>04/12/2003 12:00:00 AM</td>\n",
              "      <td>20204</td>\n",
              "      <td>SB11202040210971</td>\n",
              "      <td>ESTUDIANTE</td>\n",
              "      <td>VENEZUELA</td>\n",
              "      <td>No</td>\n",
              "      <td>CUNDINAMARCA</td>\n",
              "      <td>...</td>\n",
              "      <td>47.0</td>\n",
              "      <td>58</td>\n",
              "      <td>A-</td>\n",
              "      <td>238</td>\n",
              "      <td>45</td>\n",
              "      <td>48.217953</td>\n",
              "      <td>2.0</td>\n",
              "      <td>3.0</td>\n",
              "      <td>PUBLICAR</td>\n",
              "      <td>NO</td>\n",
              "    </tr>\n",
              "  </tbody>\n",
              "</table>\n",
              "<p>4 rows × 81 columns</p>\n",
              "</div>\n",
              "    <div class=\"colab-df-buttons\">\n",
              "\n",
              "  <div class=\"colab-df-container\">\n",
              "    <button class=\"colab-df-convert\" onclick=\"convertToInteractive('df-4d8e541c-56aa-4077-87f4-818710133e1d')\"\n",
              "            title=\"Convert this dataframe to an interactive table.\"\n",
              "            style=\"display:none;\">\n",
              "\n",
              "  <svg xmlns=\"http://www.w3.org/2000/svg\" height=\"24px\" viewBox=\"0 -960 960 960\">\n",
              "    <path d=\"M120-120v-720h720v720H120Zm60-500h600v-160H180v160Zm220 220h160v-160H400v160Zm0 220h160v-160H400v160ZM180-400h160v-160H180v160Zm440 0h160v-160H620v160ZM180-180h160v-160H180v160Zm440 0h160v-160H620v160Z\"/>\n",
              "  </svg>\n",
              "    </button>\n",
              "\n",
              "  <style>\n",
              "    .colab-df-container {\n",
              "      display:flex;\n",
              "      gap: 12px;\n",
              "    }\n",
              "\n",
              "    .colab-df-convert {\n",
              "      background-color: #E8F0FE;\n",
              "      border: none;\n",
              "      border-radius: 50%;\n",
              "      cursor: pointer;\n",
              "      display: none;\n",
              "      fill: #1967D2;\n",
              "      height: 32px;\n",
              "      padding: 0 0 0 0;\n",
              "      width: 32px;\n",
              "    }\n",
              "\n",
              "    .colab-df-convert:hover {\n",
              "      background-color: #E2EBFA;\n",
              "      box-shadow: 0px 1px 2px rgba(60, 64, 67, 0.3), 0px 1px 3px 1px rgba(60, 64, 67, 0.15);\n",
              "      fill: #174EA6;\n",
              "    }\n",
              "\n",
              "    .colab-df-buttons div {\n",
              "      margin-bottom: 4px;\n",
              "    }\n",
              "\n",
              "    [theme=dark] .colab-df-convert {\n",
              "      background-color: #3B4455;\n",
              "      fill: #D2E3FC;\n",
              "    }\n",
              "\n",
              "    [theme=dark] .colab-df-convert:hover {\n",
              "      background-color: #434B5C;\n",
              "      box-shadow: 0px 1px 3px 1px rgba(0, 0, 0, 0.15);\n",
              "      filter: drop-shadow(0px 1px 2px rgba(0, 0, 0, 0.3));\n",
              "      fill: #FFFFFF;\n",
              "    }\n",
              "  </style>\n",
              "\n",
              "    <script>\n",
              "      const buttonEl =\n",
              "        document.querySelector('#df-4d8e541c-56aa-4077-87f4-818710133e1d button.colab-df-convert');\n",
              "      buttonEl.style.display =\n",
              "        google.colab.kernel.accessAllowed ? 'block' : 'none';\n",
              "\n",
              "      async function convertToInteractive(key) {\n",
              "        const element = document.querySelector('#df-4d8e541c-56aa-4077-87f4-818710133e1d');\n",
              "        const dataTable =\n",
              "          await google.colab.kernel.invokeFunction('convertToInteractive',\n",
              "                                                    [key], {});\n",
              "        if (!dataTable) return;\n",
              "\n",
              "        const docLinkHtml = 'Like what you see? Visit the ' +\n",
              "          '<a target=\"_blank\" href=https://colab.research.google.com/notebooks/data_table.ipynb>data table notebook</a>'\n",
              "          + ' to learn more about interactive tables.';\n",
              "        element.innerHTML = '';\n",
              "        dataTable['output_type'] = 'display_data';\n",
              "        await google.colab.output.renderOutput(dataTable, element);\n",
              "        const docLink = document.createElement('div');\n",
              "        docLink.innerHTML = docLinkHtml;\n",
              "        element.appendChild(docLink);\n",
              "      }\n",
              "    </script>\n",
              "  </div>\n",
              "\n",
              "\n",
              "<div id=\"df-fb8ebef0-4e16-40dc-b244-859b43f694db\">\n",
              "  <button class=\"colab-df-quickchart\" onclick=\"quickchart('df-fb8ebef0-4e16-40dc-b244-859b43f694db')\"\n",
              "            title=\"Suggest charts\"\n",
              "            style=\"display:none;\">\n",
              "\n",
              "<svg xmlns=\"http://www.w3.org/2000/svg\" height=\"24px\"viewBox=\"0 0 24 24\"\n",
              "     width=\"24px\">\n",
              "    <g>\n",
              "        <path d=\"M19 3H5c-1.1 0-2 .9-2 2v14c0 1.1.9 2 2 2h14c1.1 0 2-.9 2-2V5c0-1.1-.9-2-2-2zM9 17H7v-7h2v7zm4 0h-2V7h2v10zm4 0h-2v-4h2v4z\"/>\n",
              "    </g>\n",
              "</svg>\n",
              "  </button>\n",
              "\n",
              "<style>\n",
              "  .colab-df-quickchart {\n",
              "      --bg-color: #E8F0FE;\n",
              "      --fill-color: #1967D2;\n",
              "      --hover-bg-color: #E2EBFA;\n",
              "      --hover-fill-color: #174EA6;\n",
              "      --disabled-fill-color: #AAA;\n",
              "      --disabled-bg-color: #DDD;\n",
              "  }\n",
              "\n",
              "  [theme=dark] .colab-df-quickchart {\n",
              "      --bg-color: #3B4455;\n",
              "      --fill-color: #D2E3FC;\n",
              "      --hover-bg-color: #434B5C;\n",
              "      --hover-fill-color: #FFFFFF;\n",
              "      --disabled-bg-color: #3B4455;\n",
              "      --disabled-fill-color: #666;\n",
              "  }\n",
              "\n",
              "  .colab-df-quickchart {\n",
              "    background-color: var(--bg-color);\n",
              "    border: none;\n",
              "    border-radius: 50%;\n",
              "    cursor: pointer;\n",
              "    display: none;\n",
              "    fill: var(--fill-color);\n",
              "    height: 32px;\n",
              "    padding: 0;\n",
              "    width: 32px;\n",
              "  }\n",
              "\n",
              "  .colab-df-quickchart:hover {\n",
              "    background-color: var(--hover-bg-color);\n",
              "    box-shadow: 0 1px 2px rgba(60, 64, 67, 0.3), 0 1px 3px 1px rgba(60, 64, 67, 0.15);\n",
              "    fill: var(--button-hover-fill-color);\n",
              "  }\n",
              "\n",
              "  .colab-df-quickchart-complete:disabled,\n",
              "  .colab-df-quickchart-complete:disabled:hover {\n",
              "    background-color: var(--disabled-bg-color);\n",
              "    fill: var(--disabled-fill-color);\n",
              "    box-shadow: none;\n",
              "  }\n",
              "\n",
              "  .colab-df-spinner {\n",
              "    border: 2px solid var(--fill-color);\n",
              "    border-color: transparent;\n",
              "    border-bottom-color: var(--fill-color);\n",
              "    animation:\n",
              "      spin 1s steps(1) infinite;\n",
              "  }\n",
              "\n",
              "  @keyframes spin {\n",
              "    0% {\n",
              "      border-color: transparent;\n",
              "      border-bottom-color: var(--fill-color);\n",
              "      border-left-color: var(--fill-color);\n",
              "    }\n",
              "    20% {\n",
              "      border-color: transparent;\n",
              "      border-left-color: var(--fill-color);\n",
              "      border-top-color: var(--fill-color);\n",
              "    }\n",
              "    30% {\n",
              "      border-color: transparent;\n",
              "      border-left-color: var(--fill-color);\n",
              "      border-top-color: var(--fill-color);\n",
              "      border-right-color: var(--fill-color);\n",
              "    }\n",
              "    40% {\n",
              "      border-color: transparent;\n",
              "      border-right-color: var(--fill-color);\n",
              "      border-top-color: var(--fill-color);\n",
              "    }\n",
              "    60% {\n",
              "      border-color: transparent;\n",
              "      border-right-color: var(--fill-color);\n",
              "    }\n",
              "    80% {\n",
              "      border-color: transparent;\n",
              "      border-right-color: var(--fill-color);\n",
              "      border-bottom-color: var(--fill-color);\n",
              "    }\n",
              "    90% {\n",
              "      border-color: transparent;\n",
              "      border-bottom-color: var(--fill-color);\n",
              "    }\n",
              "  }\n",
              "</style>\n",
              "\n",
              "  <script>\n",
              "    async function quickchart(key) {\n",
              "      const quickchartButtonEl =\n",
              "        document.querySelector('#' + key + ' button');\n",
              "      quickchartButtonEl.disabled = true;  // To prevent multiple clicks.\n",
              "      quickchartButtonEl.classList.add('colab-df-spinner');\n",
              "      try {\n",
              "        const charts = await google.colab.kernel.invokeFunction(\n",
              "            'suggestCharts', [key], {});\n",
              "      } catch (error) {\n",
              "        console.error('Error during call to suggestCharts:', error);\n",
              "      }\n",
              "      quickchartButtonEl.classList.remove('colab-df-spinner');\n",
              "      quickchartButtonEl.classList.add('colab-df-quickchart-complete');\n",
              "    }\n",
              "    (() => {\n",
              "      let quickchartButtonEl =\n",
              "        document.querySelector('#df-fb8ebef0-4e16-40dc-b244-859b43f694db button');\n",
              "      quickchartButtonEl.style.display =\n",
              "        google.colab.kernel.accessAllowed ? 'block' : 'none';\n",
              "    })();\n",
              "  </script>\n",
              "</div>\n",
              "\n",
              "    </div>\n",
              "  </div>\n"
            ],
            "application/vnd.google.colaboratory.intrinsic+json": {
              "type": "dataframe",
              "variable_name": "df_resultados_2020_2"
            }
          },
          "metadata": {},
          "execution_count": 79
        }
      ],
      "source": [
        "# La función head, devuelve la cantidad de primeras filas/registros solicitada del dataframe\n",
        "\n",
        "df_resultados_2020_2.head(4)\n"
      ]
    },
    {
      "cell_type": "code",
      "execution_count": 80,
      "metadata": {
        "id": "6naRyp0XPuc1",
        "colab": {
          "base_uri": "https://localhost:8080/",
          "height": 259
        },
        "outputId": "9acbd544-a7f2-4157-d8d7-e6db57a37a84"
      },
      "outputs": [
        {
          "output_type": "execute_result",
          "data": {
            "text/plain": [
              "       ESTU_TIPODOCUMENTO ESTU_NACIONALIDAD ESTU_GENERO  \\\n",
              "504868                 CC          COLOMBIA           M   \n",
              "504869                 TI          COLOMBIA           F   \n",
              "504870                 TI          COLOMBIA           M   \n",
              "504871                 TI          COLOMBIA           F   \n",
              "\n",
              "          ESTU_FECHANACIMIENTO  PERIODO  ESTU_CONSECUTIVO ESTU_ESTUDIANTE  \\\n",
              "504868  10/27/1996 12:00:00 AM    20204  SB11202040168415      ESTUDIANTE   \n",
              "504869  01/14/2005 12:00:00 AM    20204  SB11202040185843      ESTUDIANTE   \n",
              "504870  06/14/2002 12:00:00 AM    20204  SB11202040168607      ESTUDIANTE   \n",
              "504871  02/20/2002 12:00:00 AM    20204  SB11202040525571      ESTUDIANTE   \n",
              "\n",
              "       ESTU_PAIS_RESIDE ESTU_TIENEETNIA ESTU_DEPTO_RESIDE  ...  PUNT_INGLES  \\\n",
              "504868         COLOMBIA              No            BOGOTÁ  ...         54.0   \n",
              "504869         COLOMBIA              No            BOGOTÁ  ...         67.0   \n",
              "504870         COLOMBIA              No            BOGOTÁ  ...         52.0   \n",
              "504871         COLOMBIA              No            BOGOTÁ  ...         48.0   \n",
              "\n",
              "       PERCENTIL_INGLES  DESEMP_INGLES PUNT_GLOBAL PERCENTIL_GLOBAL  \\\n",
              "504868               79             A1         257               59   \n",
              "504869               93             A2         330               95   \n",
              "504870               75             A1         290               80   \n",
              "504871               63             A1         261               61   \n",
              "\n",
              "       ESTU_INSE_INDIVIDUAL ESTU_NSE_INDIVIDUAL ESTU_NSE_ESTABLECIMIENTO  \\\n",
              "504868            38.124729                 1.0                      3.0   \n",
              "504869            53.586443                 3.0                      3.0   \n",
              "504870            58.316936                 3.0                      3.0   \n",
              "504871            57.375730                 3.0                      3.0   \n",
              "\n",
              "       ESTU_ESTADOINVESTIGACION         ESTU_GENERACION-E  \n",
              "504868                 PUBLICAR                        NO  \n",
              "504869                 PUBLICAR                        NO  \n",
              "504870                 PUBLICAR                        NO  \n",
              "504871                 PUBLICAR  GENERACION E - GRATUIDAD  \n",
              "\n",
              "[4 rows x 81 columns]"
            ],
            "text/html": [
              "\n",
              "  <div id=\"df-f848ad9a-d02a-4950-ada5-2ec50ee29623\" class=\"colab-df-container\">\n",
              "    <div>\n",
              "<style scoped>\n",
              "    .dataframe tbody tr th:only-of-type {\n",
              "        vertical-align: middle;\n",
              "    }\n",
              "\n",
              "    .dataframe tbody tr th {\n",
              "        vertical-align: top;\n",
              "    }\n",
              "\n",
              "    .dataframe thead th {\n",
              "        text-align: right;\n",
              "    }\n",
              "</style>\n",
              "<table border=\"1\" class=\"dataframe\">\n",
              "  <thead>\n",
              "    <tr style=\"text-align: right;\">\n",
              "      <th></th>\n",
              "      <th>ESTU_TIPODOCUMENTO</th>\n",
              "      <th>ESTU_NACIONALIDAD</th>\n",
              "      <th>ESTU_GENERO</th>\n",
              "      <th>ESTU_FECHANACIMIENTO</th>\n",
              "      <th>PERIODO</th>\n",
              "      <th>ESTU_CONSECUTIVO</th>\n",
              "      <th>ESTU_ESTUDIANTE</th>\n",
              "      <th>ESTU_PAIS_RESIDE</th>\n",
              "      <th>ESTU_TIENEETNIA</th>\n",
              "      <th>ESTU_DEPTO_RESIDE</th>\n",
              "      <th>...</th>\n",
              "      <th>PUNT_INGLES</th>\n",
              "      <th>PERCENTIL_INGLES</th>\n",
              "      <th>DESEMP_INGLES</th>\n",
              "      <th>PUNT_GLOBAL</th>\n",
              "      <th>PERCENTIL_GLOBAL</th>\n",
              "      <th>ESTU_INSE_INDIVIDUAL</th>\n",
              "      <th>ESTU_NSE_INDIVIDUAL</th>\n",
              "      <th>ESTU_NSE_ESTABLECIMIENTO</th>\n",
              "      <th>ESTU_ESTADOINVESTIGACION</th>\n",
              "      <th>ESTU_GENERACION-E</th>\n",
              "    </tr>\n",
              "  </thead>\n",
              "  <tbody>\n",
              "    <tr>\n",
              "      <th>504868</th>\n",
              "      <td>CC</td>\n",
              "      <td>COLOMBIA</td>\n",
              "      <td>M</td>\n",
              "      <td>10/27/1996 12:00:00 AM</td>\n",
              "      <td>20204</td>\n",
              "      <td>SB11202040168415</td>\n",
              "      <td>ESTUDIANTE</td>\n",
              "      <td>COLOMBIA</td>\n",
              "      <td>No</td>\n",
              "      <td>BOGOTÁ</td>\n",
              "      <td>...</td>\n",
              "      <td>54.0</td>\n",
              "      <td>79</td>\n",
              "      <td>A1</td>\n",
              "      <td>257</td>\n",
              "      <td>59</td>\n",
              "      <td>38.124729</td>\n",
              "      <td>1.0</td>\n",
              "      <td>3.0</td>\n",
              "      <td>PUBLICAR</td>\n",
              "      <td>NO</td>\n",
              "    </tr>\n",
              "    <tr>\n",
              "      <th>504869</th>\n",
              "      <td>TI</td>\n",
              "      <td>COLOMBIA</td>\n",
              "      <td>F</td>\n",
              "      <td>01/14/2005 12:00:00 AM</td>\n",
              "      <td>20204</td>\n",
              "      <td>SB11202040185843</td>\n",
              "      <td>ESTUDIANTE</td>\n",
              "      <td>COLOMBIA</td>\n",
              "      <td>No</td>\n",
              "      <td>BOGOTÁ</td>\n",
              "      <td>...</td>\n",
              "      <td>67.0</td>\n",
              "      <td>93</td>\n",
              "      <td>A2</td>\n",
              "      <td>330</td>\n",
              "      <td>95</td>\n",
              "      <td>53.586443</td>\n",
              "      <td>3.0</td>\n",
              "      <td>3.0</td>\n",
              "      <td>PUBLICAR</td>\n",
              "      <td>NO</td>\n",
              "    </tr>\n",
              "    <tr>\n",
              "      <th>504870</th>\n",
              "      <td>TI</td>\n",
              "      <td>COLOMBIA</td>\n",
              "      <td>M</td>\n",
              "      <td>06/14/2002 12:00:00 AM</td>\n",
              "      <td>20204</td>\n",
              "      <td>SB11202040168607</td>\n",
              "      <td>ESTUDIANTE</td>\n",
              "      <td>COLOMBIA</td>\n",
              "      <td>No</td>\n",
              "      <td>BOGOTÁ</td>\n",
              "      <td>...</td>\n",
              "      <td>52.0</td>\n",
              "      <td>75</td>\n",
              "      <td>A1</td>\n",
              "      <td>290</td>\n",
              "      <td>80</td>\n",
              "      <td>58.316936</td>\n",
              "      <td>3.0</td>\n",
              "      <td>3.0</td>\n",
              "      <td>PUBLICAR</td>\n",
              "      <td>NO</td>\n",
              "    </tr>\n",
              "    <tr>\n",
              "      <th>504871</th>\n",
              "      <td>TI</td>\n",
              "      <td>COLOMBIA</td>\n",
              "      <td>F</td>\n",
              "      <td>02/20/2002 12:00:00 AM</td>\n",
              "      <td>20204</td>\n",
              "      <td>SB11202040525571</td>\n",
              "      <td>ESTUDIANTE</td>\n",
              "      <td>COLOMBIA</td>\n",
              "      <td>No</td>\n",
              "      <td>BOGOTÁ</td>\n",
              "      <td>...</td>\n",
              "      <td>48.0</td>\n",
              "      <td>63</td>\n",
              "      <td>A1</td>\n",
              "      <td>261</td>\n",
              "      <td>61</td>\n",
              "      <td>57.375730</td>\n",
              "      <td>3.0</td>\n",
              "      <td>3.0</td>\n",
              "      <td>PUBLICAR</td>\n",
              "      <td>GENERACION E - GRATUIDAD</td>\n",
              "    </tr>\n",
              "  </tbody>\n",
              "</table>\n",
              "<p>4 rows × 81 columns</p>\n",
              "</div>\n",
              "    <div class=\"colab-df-buttons\">\n",
              "\n",
              "  <div class=\"colab-df-container\">\n",
              "    <button class=\"colab-df-convert\" onclick=\"convertToInteractive('df-f848ad9a-d02a-4950-ada5-2ec50ee29623')\"\n",
              "            title=\"Convert this dataframe to an interactive table.\"\n",
              "            style=\"display:none;\">\n",
              "\n",
              "  <svg xmlns=\"http://www.w3.org/2000/svg\" height=\"24px\" viewBox=\"0 -960 960 960\">\n",
              "    <path d=\"M120-120v-720h720v720H120Zm60-500h600v-160H180v160Zm220 220h160v-160H400v160Zm0 220h160v-160H400v160ZM180-400h160v-160H180v160Zm440 0h160v-160H620v160ZM180-180h160v-160H180v160Zm440 0h160v-160H620v160Z\"/>\n",
              "  </svg>\n",
              "    </button>\n",
              "\n",
              "  <style>\n",
              "    .colab-df-container {\n",
              "      display:flex;\n",
              "      gap: 12px;\n",
              "    }\n",
              "\n",
              "    .colab-df-convert {\n",
              "      background-color: #E8F0FE;\n",
              "      border: none;\n",
              "      border-radius: 50%;\n",
              "      cursor: pointer;\n",
              "      display: none;\n",
              "      fill: #1967D2;\n",
              "      height: 32px;\n",
              "      padding: 0 0 0 0;\n",
              "      width: 32px;\n",
              "    }\n",
              "\n",
              "    .colab-df-convert:hover {\n",
              "      background-color: #E2EBFA;\n",
              "      box-shadow: 0px 1px 2px rgba(60, 64, 67, 0.3), 0px 1px 3px 1px rgba(60, 64, 67, 0.15);\n",
              "      fill: #174EA6;\n",
              "    }\n",
              "\n",
              "    .colab-df-buttons div {\n",
              "      margin-bottom: 4px;\n",
              "    }\n",
              "\n",
              "    [theme=dark] .colab-df-convert {\n",
              "      background-color: #3B4455;\n",
              "      fill: #D2E3FC;\n",
              "    }\n",
              "\n",
              "    [theme=dark] .colab-df-convert:hover {\n",
              "      background-color: #434B5C;\n",
              "      box-shadow: 0px 1px 3px 1px rgba(0, 0, 0, 0.15);\n",
              "      filter: drop-shadow(0px 1px 2px rgba(0, 0, 0, 0.3));\n",
              "      fill: #FFFFFF;\n",
              "    }\n",
              "  </style>\n",
              "\n",
              "    <script>\n",
              "      const buttonEl =\n",
              "        document.querySelector('#df-f848ad9a-d02a-4950-ada5-2ec50ee29623 button.colab-df-convert');\n",
              "      buttonEl.style.display =\n",
              "        google.colab.kernel.accessAllowed ? 'block' : 'none';\n",
              "\n",
              "      async function convertToInteractive(key) {\n",
              "        const element = document.querySelector('#df-f848ad9a-d02a-4950-ada5-2ec50ee29623');\n",
              "        const dataTable =\n",
              "          await google.colab.kernel.invokeFunction('convertToInteractive',\n",
              "                                                    [key], {});\n",
              "        if (!dataTable) return;\n",
              "\n",
              "        const docLinkHtml = 'Like what you see? Visit the ' +\n",
              "          '<a target=\"_blank\" href=https://colab.research.google.com/notebooks/data_table.ipynb>data table notebook</a>'\n",
              "          + ' to learn more about interactive tables.';\n",
              "        element.innerHTML = '';\n",
              "        dataTable['output_type'] = 'display_data';\n",
              "        await google.colab.output.renderOutput(dataTable, element);\n",
              "        const docLink = document.createElement('div');\n",
              "        docLink.innerHTML = docLinkHtml;\n",
              "        element.appendChild(docLink);\n",
              "      }\n",
              "    </script>\n",
              "  </div>\n",
              "\n",
              "\n",
              "<div id=\"df-6eb59191-0543-4df1-8f72-1ac67d550bbd\">\n",
              "  <button class=\"colab-df-quickchart\" onclick=\"quickchart('df-6eb59191-0543-4df1-8f72-1ac67d550bbd')\"\n",
              "            title=\"Suggest charts\"\n",
              "            style=\"display:none;\">\n",
              "\n",
              "<svg xmlns=\"http://www.w3.org/2000/svg\" height=\"24px\"viewBox=\"0 0 24 24\"\n",
              "     width=\"24px\">\n",
              "    <g>\n",
              "        <path d=\"M19 3H5c-1.1 0-2 .9-2 2v14c0 1.1.9 2 2 2h14c1.1 0 2-.9 2-2V5c0-1.1-.9-2-2-2zM9 17H7v-7h2v7zm4 0h-2V7h2v10zm4 0h-2v-4h2v4z\"/>\n",
              "    </g>\n",
              "</svg>\n",
              "  </button>\n",
              "\n",
              "<style>\n",
              "  .colab-df-quickchart {\n",
              "      --bg-color: #E8F0FE;\n",
              "      --fill-color: #1967D2;\n",
              "      --hover-bg-color: #E2EBFA;\n",
              "      --hover-fill-color: #174EA6;\n",
              "      --disabled-fill-color: #AAA;\n",
              "      --disabled-bg-color: #DDD;\n",
              "  }\n",
              "\n",
              "  [theme=dark] .colab-df-quickchart {\n",
              "      --bg-color: #3B4455;\n",
              "      --fill-color: #D2E3FC;\n",
              "      --hover-bg-color: #434B5C;\n",
              "      --hover-fill-color: #FFFFFF;\n",
              "      --disabled-bg-color: #3B4455;\n",
              "      --disabled-fill-color: #666;\n",
              "  }\n",
              "\n",
              "  .colab-df-quickchart {\n",
              "    background-color: var(--bg-color);\n",
              "    border: none;\n",
              "    border-radius: 50%;\n",
              "    cursor: pointer;\n",
              "    display: none;\n",
              "    fill: var(--fill-color);\n",
              "    height: 32px;\n",
              "    padding: 0;\n",
              "    width: 32px;\n",
              "  }\n",
              "\n",
              "  .colab-df-quickchart:hover {\n",
              "    background-color: var(--hover-bg-color);\n",
              "    box-shadow: 0 1px 2px rgba(60, 64, 67, 0.3), 0 1px 3px 1px rgba(60, 64, 67, 0.15);\n",
              "    fill: var(--button-hover-fill-color);\n",
              "  }\n",
              "\n",
              "  .colab-df-quickchart-complete:disabled,\n",
              "  .colab-df-quickchart-complete:disabled:hover {\n",
              "    background-color: var(--disabled-bg-color);\n",
              "    fill: var(--disabled-fill-color);\n",
              "    box-shadow: none;\n",
              "  }\n",
              "\n",
              "  .colab-df-spinner {\n",
              "    border: 2px solid var(--fill-color);\n",
              "    border-color: transparent;\n",
              "    border-bottom-color: var(--fill-color);\n",
              "    animation:\n",
              "      spin 1s steps(1) infinite;\n",
              "  }\n",
              "\n",
              "  @keyframes spin {\n",
              "    0% {\n",
              "      border-color: transparent;\n",
              "      border-bottom-color: var(--fill-color);\n",
              "      border-left-color: var(--fill-color);\n",
              "    }\n",
              "    20% {\n",
              "      border-color: transparent;\n",
              "      border-left-color: var(--fill-color);\n",
              "      border-top-color: var(--fill-color);\n",
              "    }\n",
              "    30% {\n",
              "      border-color: transparent;\n",
              "      border-left-color: var(--fill-color);\n",
              "      border-top-color: var(--fill-color);\n",
              "      border-right-color: var(--fill-color);\n",
              "    }\n",
              "    40% {\n",
              "      border-color: transparent;\n",
              "      border-right-color: var(--fill-color);\n",
              "      border-top-color: var(--fill-color);\n",
              "    }\n",
              "    60% {\n",
              "      border-color: transparent;\n",
              "      border-right-color: var(--fill-color);\n",
              "    }\n",
              "    80% {\n",
              "      border-color: transparent;\n",
              "      border-right-color: var(--fill-color);\n",
              "      border-bottom-color: var(--fill-color);\n",
              "    }\n",
              "    90% {\n",
              "      border-color: transparent;\n",
              "      border-bottom-color: var(--fill-color);\n",
              "    }\n",
              "  }\n",
              "</style>\n",
              "\n",
              "  <script>\n",
              "    async function quickchart(key) {\n",
              "      const quickchartButtonEl =\n",
              "        document.querySelector('#' + key + ' button');\n",
              "      quickchartButtonEl.disabled = true;  // To prevent multiple clicks.\n",
              "      quickchartButtonEl.classList.add('colab-df-spinner');\n",
              "      try {\n",
              "        const charts = await google.colab.kernel.invokeFunction(\n",
              "            'suggestCharts', [key], {});\n",
              "      } catch (error) {\n",
              "        console.error('Error during call to suggestCharts:', error);\n",
              "      }\n",
              "      quickchartButtonEl.classList.remove('colab-df-spinner');\n",
              "      quickchartButtonEl.classList.add('colab-df-quickchart-complete');\n",
              "    }\n",
              "    (() => {\n",
              "      let quickchartButtonEl =\n",
              "        document.querySelector('#df-6eb59191-0543-4df1-8f72-1ac67d550bbd button');\n",
              "      quickchartButtonEl.style.display =\n",
              "        google.colab.kernel.accessAllowed ? 'block' : 'none';\n",
              "    })();\n",
              "  </script>\n",
              "</div>\n",
              "\n",
              "    </div>\n",
              "  </div>\n"
            ],
            "application/vnd.google.colaboratory.intrinsic+json": {
              "type": "dataframe"
            }
          },
          "metadata": {},
          "execution_count": 80
        }
      ],
      "source": [
        "# La función tail, devuelve la cantidad de últimas filas/registros solicitada del dataframe\n",
        "\n",
        "df_resultados_2020_2.tail(4)"
      ]
    },
    {
      "cell_type": "code",
      "execution_count": 84,
      "metadata": {
        "id": "lUkljoWfPuc1",
        "colab": {
          "base_uri": "https://localhost:8080/",
          "height": 294
        },
        "outputId": "cfe7f04d-4984-47be-f874-d16f3ff27584"
      },
      "outputs": [
        {
          "output_type": "execute_result",
          "data": {
            "text/plain": [
              "       ESTU_TIPODOCUMENTO ESTU_NACIONALIDAD ESTU_GENERO  \\\n",
              "390864                 CC          COLOMBIA           M   \n",
              "457709                 TI          COLOMBIA           M   \n",
              "303547                 TI          COLOMBIA           F   \n",
              "246498                 TI          COLOMBIA           M   \n",
              "\n",
              "          ESTU_FECHANACIMIENTO  PERIODO  ESTU_CONSECUTIVO ESTU_ESTUDIANTE  \\\n",
              "390864  11/05/2001 12:00:00 AM    20204  SB11202040500885      ESTUDIANTE   \n",
              "457709  12/21/2003 12:00:00 AM    20204  SB11202040471633      ESTUDIANTE   \n",
              "303547  12/17/2003 12:00:00 AM    20204  SB11202040298369      ESTUDIANTE   \n",
              "246498  10/30/2002 12:00:00 AM    20204  SB11202040100187      ESTUDIANTE   \n",
              "\n",
              "       ESTU_PAIS_RESIDE ESTU_TIENEETNIA ESTU_DEPTO_RESIDE  ...  PUNT_INGLES  \\\n",
              "390864         COLOMBIA              No         ANTIOQUIA  ...         36.0   \n",
              "457709         COLOMBIA              Si             VALLE  ...         33.0   \n",
              "303547         COLOMBIA              No             HUILA  ...         38.0   \n",
              "246498         COLOMBIA              No      CUNDINAMARCA  ...         50.0   \n",
              "\n",
              "       PERCENTIL_INGLES  DESEMP_INGLES PUNT_GLOBAL PERCENTIL_GLOBAL  \\\n",
              "390864               14             A-         210               24   \n",
              "457709                7             A-         160                2   \n",
              "303547               21             A-         212               25   \n",
              "246498               70             A1         320               92   \n",
              "\n",
              "       ESTU_INSE_INDIVIDUAL ESTU_NSE_INDIVIDUAL ESTU_NSE_ESTABLECIMIENTO  \\\n",
              "390864            45.424549                 2.0                      3.0   \n",
              "457709            46.439027                 2.0                      3.0   \n",
              "303547            53.898993                 3.0                      3.0   \n",
              "246498            50.154778                 2.0                      2.0   \n",
              "\n",
              "       ESTU_ESTADOINVESTIGACION         ESTU_GENERACION-E  \n",
              "390864                 PUBLICAR  GENERACION E - GRATUIDAD  \n",
              "457709                 PUBLICAR  GENERACION E - GRATUIDAD  \n",
              "303547                 PUBLICAR                        NO  \n",
              "246498                 PUBLICAR  GENERACION E - GRATUIDAD  \n",
              "\n",
              "[4 rows x 81 columns]"
            ],
            "text/html": [
              "\n",
              "  <div id=\"df-26e0e52d-3071-4024-ac8e-79c6aa7e5c84\" class=\"colab-df-container\">\n",
              "    <div>\n",
              "<style scoped>\n",
              "    .dataframe tbody tr th:only-of-type {\n",
              "        vertical-align: middle;\n",
              "    }\n",
              "\n",
              "    .dataframe tbody tr th {\n",
              "        vertical-align: top;\n",
              "    }\n",
              "\n",
              "    .dataframe thead th {\n",
              "        text-align: right;\n",
              "    }\n",
              "</style>\n",
              "<table border=\"1\" class=\"dataframe\">\n",
              "  <thead>\n",
              "    <tr style=\"text-align: right;\">\n",
              "      <th></th>\n",
              "      <th>ESTU_TIPODOCUMENTO</th>\n",
              "      <th>ESTU_NACIONALIDAD</th>\n",
              "      <th>ESTU_GENERO</th>\n",
              "      <th>ESTU_FECHANACIMIENTO</th>\n",
              "      <th>PERIODO</th>\n",
              "      <th>ESTU_CONSECUTIVO</th>\n",
              "      <th>ESTU_ESTUDIANTE</th>\n",
              "      <th>ESTU_PAIS_RESIDE</th>\n",
              "      <th>ESTU_TIENEETNIA</th>\n",
              "      <th>ESTU_DEPTO_RESIDE</th>\n",
              "      <th>...</th>\n",
              "      <th>PUNT_INGLES</th>\n",
              "      <th>PERCENTIL_INGLES</th>\n",
              "      <th>DESEMP_INGLES</th>\n",
              "      <th>PUNT_GLOBAL</th>\n",
              "      <th>PERCENTIL_GLOBAL</th>\n",
              "      <th>ESTU_INSE_INDIVIDUAL</th>\n",
              "      <th>ESTU_NSE_INDIVIDUAL</th>\n",
              "      <th>ESTU_NSE_ESTABLECIMIENTO</th>\n",
              "      <th>ESTU_ESTADOINVESTIGACION</th>\n",
              "      <th>ESTU_GENERACION-E</th>\n",
              "    </tr>\n",
              "  </thead>\n",
              "  <tbody>\n",
              "    <tr>\n",
              "      <th>390864</th>\n",
              "      <td>CC</td>\n",
              "      <td>COLOMBIA</td>\n",
              "      <td>M</td>\n",
              "      <td>11/05/2001 12:00:00 AM</td>\n",
              "      <td>20204</td>\n",
              "      <td>SB11202040500885</td>\n",
              "      <td>ESTUDIANTE</td>\n",
              "      <td>COLOMBIA</td>\n",
              "      <td>No</td>\n",
              "      <td>ANTIOQUIA</td>\n",
              "      <td>...</td>\n",
              "      <td>36.0</td>\n",
              "      <td>14</td>\n",
              "      <td>A-</td>\n",
              "      <td>210</td>\n",
              "      <td>24</td>\n",
              "      <td>45.424549</td>\n",
              "      <td>2.0</td>\n",
              "      <td>3.0</td>\n",
              "      <td>PUBLICAR</td>\n",
              "      <td>GENERACION E - GRATUIDAD</td>\n",
              "    </tr>\n",
              "    <tr>\n",
              "      <th>457709</th>\n",
              "      <td>TI</td>\n",
              "      <td>COLOMBIA</td>\n",
              "      <td>M</td>\n",
              "      <td>12/21/2003 12:00:00 AM</td>\n",
              "      <td>20204</td>\n",
              "      <td>SB11202040471633</td>\n",
              "      <td>ESTUDIANTE</td>\n",
              "      <td>COLOMBIA</td>\n",
              "      <td>Si</td>\n",
              "      <td>VALLE</td>\n",
              "      <td>...</td>\n",
              "      <td>33.0</td>\n",
              "      <td>7</td>\n",
              "      <td>A-</td>\n",
              "      <td>160</td>\n",
              "      <td>2</td>\n",
              "      <td>46.439027</td>\n",
              "      <td>2.0</td>\n",
              "      <td>3.0</td>\n",
              "      <td>PUBLICAR</td>\n",
              "      <td>GENERACION E - GRATUIDAD</td>\n",
              "    </tr>\n",
              "    <tr>\n",
              "      <th>303547</th>\n",
              "      <td>TI</td>\n",
              "      <td>COLOMBIA</td>\n",
              "      <td>F</td>\n",
              "      <td>12/17/2003 12:00:00 AM</td>\n",
              "      <td>20204</td>\n",
              "      <td>SB11202040298369</td>\n",
              "      <td>ESTUDIANTE</td>\n",
              "      <td>COLOMBIA</td>\n",
              "      <td>No</td>\n",
              "      <td>HUILA</td>\n",
              "      <td>...</td>\n",
              "      <td>38.0</td>\n",
              "      <td>21</td>\n",
              "      <td>A-</td>\n",
              "      <td>212</td>\n",
              "      <td>25</td>\n",
              "      <td>53.898993</td>\n",
              "      <td>3.0</td>\n",
              "      <td>3.0</td>\n",
              "      <td>PUBLICAR</td>\n",
              "      <td>NO</td>\n",
              "    </tr>\n",
              "    <tr>\n",
              "      <th>246498</th>\n",
              "      <td>TI</td>\n",
              "      <td>COLOMBIA</td>\n",
              "      <td>M</td>\n",
              "      <td>10/30/2002 12:00:00 AM</td>\n",
              "      <td>20204</td>\n",
              "      <td>SB11202040100187</td>\n",
              "      <td>ESTUDIANTE</td>\n",
              "      <td>COLOMBIA</td>\n",
              "      <td>No</td>\n",
              "      <td>CUNDINAMARCA</td>\n",
              "      <td>...</td>\n",
              "      <td>50.0</td>\n",
              "      <td>70</td>\n",
              "      <td>A1</td>\n",
              "      <td>320</td>\n",
              "      <td>92</td>\n",
              "      <td>50.154778</td>\n",
              "      <td>2.0</td>\n",
              "      <td>2.0</td>\n",
              "      <td>PUBLICAR</td>\n",
              "      <td>GENERACION E - GRATUIDAD</td>\n",
              "    </tr>\n",
              "  </tbody>\n",
              "</table>\n",
              "<p>4 rows × 81 columns</p>\n",
              "</div>\n",
              "    <div class=\"colab-df-buttons\">\n",
              "\n",
              "  <div class=\"colab-df-container\">\n",
              "    <button class=\"colab-df-convert\" onclick=\"convertToInteractive('df-26e0e52d-3071-4024-ac8e-79c6aa7e5c84')\"\n",
              "            title=\"Convert this dataframe to an interactive table.\"\n",
              "            style=\"display:none;\">\n",
              "\n",
              "  <svg xmlns=\"http://www.w3.org/2000/svg\" height=\"24px\" viewBox=\"0 -960 960 960\">\n",
              "    <path d=\"M120-120v-720h720v720H120Zm60-500h600v-160H180v160Zm220 220h160v-160H400v160Zm0 220h160v-160H400v160ZM180-400h160v-160H180v160Zm440 0h160v-160H620v160ZM180-180h160v-160H180v160Zm440 0h160v-160H620v160Z\"/>\n",
              "  </svg>\n",
              "    </button>\n",
              "\n",
              "  <style>\n",
              "    .colab-df-container {\n",
              "      display:flex;\n",
              "      gap: 12px;\n",
              "    }\n",
              "\n",
              "    .colab-df-convert {\n",
              "      background-color: #E8F0FE;\n",
              "      border: none;\n",
              "      border-radius: 50%;\n",
              "      cursor: pointer;\n",
              "      display: none;\n",
              "      fill: #1967D2;\n",
              "      height: 32px;\n",
              "      padding: 0 0 0 0;\n",
              "      width: 32px;\n",
              "    }\n",
              "\n",
              "    .colab-df-convert:hover {\n",
              "      background-color: #E2EBFA;\n",
              "      box-shadow: 0px 1px 2px rgba(60, 64, 67, 0.3), 0px 1px 3px 1px rgba(60, 64, 67, 0.15);\n",
              "      fill: #174EA6;\n",
              "    }\n",
              "\n",
              "    .colab-df-buttons div {\n",
              "      margin-bottom: 4px;\n",
              "    }\n",
              "\n",
              "    [theme=dark] .colab-df-convert {\n",
              "      background-color: #3B4455;\n",
              "      fill: #D2E3FC;\n",
              "    }\n",
              "\n",
              "    [theme=dark] .colab-df-convert:hover {\n",
              "      background-color: #434B5C;\n",
              "      box-shadow: 0px 1px 3px 1px rgba(0, 0, 0, 0.15);\n",
              "      filter: drop-shadow(0px 1px 2px rgba(0, 0, 0, 0.3));\n",
              "      fill: #FFFFFF;\n",
              "    }\n",
              "  </style>\n",
              "\n",
              "    <script>\n",
              "      const buttonEl =\n",
              "        document.querySelector('#df-26e0e52d-3071-4024-ac8e-79c6aa7e5c84 button.colab-df-convert');\n",
              "      buttonEl.style.display =\n",
              "        google.colab.kernel.accessAllowed ? 'block' : 'none';\n",
              "\n",
              "      async function convertToInteractive(key) {\n",
              "        const element = document.querySelector('#df-26e0e52d-3071-4024-ac8e-79c6aa7e5c84');\n",
              "        const dataTable =\n",
              "          await google.colab.kernel.invokeFunction('convertToInteractive',\n",
              "                                                    [key], {});\n",
              "        if (!dataTable) return;\n",
              "\n",
              "        const docLinkHtml = 'Like what you see? Visit the ' +\n",
              "          '<a target=\"_blank\" href=https://colab.research.google.com/notebooks/data_table.ipynb>data table notebook</a>'\n",
              "          + ' to learn more about interactive tables.';\n",
              "        element.innerHTML = '';\n",
              "        dataTable['output_type'] = 'display_data';\n",
              "        await google.colab.output.renderOutput(dataTable, element);\n",
              "        const docLink = document.createElement('div');\n",
              "        docLink.innerHTML = docLinkHtml;\n",
              "        element.appendChild(docLink);\n",
              "      }\n",
              "    </script>\n",
              "  </div>\n",
              "\n",
              "\n",
              "<div id=\"df-07614b41-e079-4ea4-b9bc-9601311a7639\">\n",
              "  <button class=\"colab-df-quickchart\" onclick=\"quickchart('df-07614b41-e079-4ea4-b9bc-9601311a7639')\"\n",
              "            title=\"Suggest charts\"\n",
              "            style=\"display:none;\">\n",
              "\n",
              "<svg xmlns=\"http://www.w3.org/2000/svg\" height=\"24px\"viewBox=\"0 0 24 24\"\n",
              "     width=\"24px\">\n",
              "    <g>\n",
              "        <path d=\"M19 3H5c-1.1 0-2 .9-2 2v14c0 1.1.9 2 2 2h14c1.1 0 2-.9 2-2V5c0-1.1-.9-2-2-2zM9 17H7v-7h2v7zm4 0h-2V7h2v10zm4 0h-2v-4h2v4z\"/>\n",
              "    </g>\n",
              "</svg>\n",
              "  </button>\n",
              "\n",
              "<style>\n",
              "  .colab-df-quickchart {\n",
              "      --bg-color: #E8F0FE;\n",
              "      --fill-color: #1967D2;\n",
              "      --hover-bg-color: #E2EBFA;\n",
              "      --hover-fill-color: #174EA6;\n",
              "      --disabled-fill-color: #AAA;\n",
              "      --disabled-bg-color: #DDD;\n",
              "  }\n",
              "\n",
              "  [theme=dark] .colab-df-quickchart {\n",
              "      --bg-color: #3B4455;\n",
              "      --fill-color: #D2E3FC;\n",
              "      --hover-bg-color: #434B5C;\n",
              "      --hover-fill-color: #FFFFFF;\n",
              "      --disabled-bg-color: #3B4455;\n",
              "      --disabled-fill-color: #666;\n",
              "  }\n",
              "\n",
              "  .colab-df-quickchart {\n",
              "    background-color: var(--bg-color);\n",
              "    border: none;\n",
              "    border-radius: 50%;\n",
              "    cursor: pointer;\n",
              "    display: none;\n",
              "    fill: var(--fill-color);\n",
              "    height: 32px;\n",
              "    padding: 0;\n",
              "    width: 32px;\n",
              "  }\n",
              "\n",
              "  .colab-df-quickchart:hover {\n",
              "    background-color: var(--hover-bg-color);\n",
              "    box-shadow: 0 1px 2px rgba(60, 64, 67, 0.3), 0 1px 3px 1px rgba(60, 64, 67, 0.15);\n",
              "    fill: var(--button-hover-fill-color);\n",
              "  }\n",
              "\n",
              "  .colab-df-quickchart-complete:disabled,\n",
              "  .colab-df-quickchart-complete:disabled:hover {\n",
              "    background-color: var(--disabled-bg-color);\n",
              "    fill: var(--disabled-fill-color);\n",
              "    box-shadow: none;\n",
              "  }\n",
              "\n",
              "  .colab-df-spinner {\n",
              "    border: 2px solid var(--fill-color);\n",
              "    border-color: transparent;\n",
              "    border-bottom-color: var(--fill-color);\n",
              "    animation:\n",
              "      spin 1s steps(1) infinite;\n",
              "  }\n",
              "\n",
              "  @keyframes spin {\n",
              "    0% {\n",
              "      border-color: transparent;\n",
              "      border-bottom-color: var(--fill-color);\n",
              "      border-left-color: var(--fill-color);\n",
              "    }\n",
              "    20% {\n",
              "      border-color: transparent;\n",
              "      border-left-color: var(--fill-color);\n",
              "      border-top-color: var(--fill-color);\n",
              "    }\n",
              "    30% {\n",
              "      border-color: transparent;\n",
              "      border-left-color: var(--fill-color);\n",
              "      border-top-color: var(--fill-color);\n",
              "      border-right-color: var(--fill-color);\n",
              "    }\n",
              "    40% {\n",
              "      border-color: transparent;\n",
              "      border-right-color: var(--fill-color);\n",
              "      border-top-color: var(--fill-color);\n",
              "    }\n",
              "    60% {\n",
              "      border-color: transparent;\n",
              "      border-right-color: var(--fill-color);\n",
              "    }\n",
              "    80% {\n",
              "      border-color: transparent;\n",
              "      border-right-color: var(--fill-color);\n",
              "      border-bottom-color: var(--fill-color);\n",
              "    }\n",
              "    90% {\n",
              "      border-color: transparent;\n",
              "      border-bottom-color: var(--fill-color);\n",
              "    }\n",
              "  }\n",
              "</style>\n",
              "\n",
              "  <script>\n",
              "    async function quickchart(key) {\n",
              "      const quickchartButtonEl =\n",
              "        document.querySelector('#' + key + ' button');\n",
              "      quickchartButtonEl.disabled = true;  // To prevent multiple clicks.\n",
              "      quickchartButtonEl.classList.add('colab-df-spinner');\n",
              "      try {\n",
              "        const charts = await google.colab.kernel.invokeFunction(\n",
              "            'suggestCharts', [key], {});\n",
              "      } catch (error) {\n",
              "        console.error('Error during call to suggestCharts:', error);\n",
              "      }\n",
              "      quickchartButtonEl.classList.remove('colab-df-spinner');\n",
              "      quickchartButtonEl.classList.add('colab-df-quickchart-complete');\n",
              "    }\n",
              "    (() => {\n",
              "      let quickchartButtonEl =\n",
              "        document.querySelector('#df-07614b41-e079-4ea4-b9bc-9601311a7639 button');\n",
              "      quickchartButtonEl.style.display =\n",
              "        google.colab.kernel.accessAllowed ? 'block' : 'none';\n",
              "    })();\n",
              "  </script>\n",
              "</div>\n",
              "\n",
              "    </div>\n",
              "  </div>\n"
            ],
            "application/vnd.google.colaboratory.intrinsic+json": {
              "type": "dataframe"
            }
          },
          "metadata": {},
          "execution_count": 84
        }
      ],
      "source": [
        "# La función sample, devuelve la cantidad aleatorias de filas/registros solicitada del dataframe\n",
        "\n",
        "df_resultados_2020_2.sample(4)"
      ]
    },
    {
      "cell_type": "code",
      "execution_count": 86,
      "metadata": {
        "id": "UBXH1qMYPuc1",
        "colab": {
          "base_uri": "https://localhost:8080/"
        },
        "outputId": "2db5dbac-5910-4b7c-98d3-678cc2f108fa"
      },
      "outputs": [
        {
          "output_type": "execute_result",
          "data": {
            "text/plain": [
              "Index(['ESTU_TIPODOCUMENTO', 'ESTU_NACIONALIDAD', 'ESTU_GENERO',\n",
              "       'ESTU_FECHANACIMIENTO', 'PERIODO', 'ESTU_CONSECUTIVO',\n",
              "       'ESTU_ESTUDIANTE', 'ESTU_PAIS_RESIDE', 'ESTU_TIENEETNIA',\n",
              "       'ESTU_DEPTO_RESIDE', 'ESTU_COD_RESIDE_DEPTO', 'ESTU_MCPIO_RESIDE',\n",
              "       'ESTU_COD_RESIDE_MCPIO', 'FAMI_ESTRATOVIVIENDA', 'FAMI_PERSONASHOGAR',\n",
              "       'FAMI_CUARTOSHOGAR', 'FAMI_EDUCACIONPADRE', 'FAMI_EDUCACIONMADRE',\n",
              "       'FAMI_TRABAJOLABORPADRE', 'FAMI_TRABAJOLABORMADRE',\n",
              "       'FAMI_TIENEINTERNET', 'FAMI_TIENESERVICIOTV', 'FAMI_TIENECOMPUTADOR',\n",
              "       'FAMI_TIENELAVADORA', 'FAMI_TIENEHORNOMICROOGAS', 'FAMI_TIENEAUTOMOVIL',\n",
              "       'FAMI_TIENEMOTOCICLETA', 'FAMI_TIENECONSOLAVIDEOJUEGOS',\n",
              "       'FAMI_NUMLIBROS', 'FAMI_COMELECHEDERIVADOS',\n",
              "       'FAMI_COMECARNEPESCADOHUEVO', 'FAMI_COMECEREALFRUTOSLEGUMBRE',\n",
              "       'FAMI_SITUACIONECONOMICA', 'ESTU_DEDICACIONLECTURADIARIA',\n",
              "       'ESTU_DEDICACIONINTERNET', 'ESTU_HORASSEMANATRABAJA',\n",
              "       'ESTU_TIPOREMUNERACION', 'COLE_CODIGO_ICFES',\n",
              "       'COLE_COD_DANE_ESTABLECIMIENTO', 'COLE_NOMBRE_ESTABLECIMIENTO',\n",
              "       'COLE_GENERO', 'COLE_NATURALEZA', 'COLE_CALENDARIO', 'COLE_BILINGUE',\n",
              "       'COLE_CARACTER', 'COLE_COD_DANE_SEDE', 'COLE_NOMBRE_SEDE',\n",
              "       'COLE_SEDE_PRINCIPAL', 'COLE_AREA_UBICACION', 'COLE_JORNADA',\n",
              "       'COLE_COD_MCPIO_UBICACION', 'COLE_MCPIO_UBICACION',\n",
              "       'COLE_COD_DEPTO_UBICACION', 'COLE_DEPTO_UBICACION',\n",
              "       'ESTU_PRIVADO_LIBERTAD', 'ESTU_COD_MCPIO_PRESENTACION',\n",
              "       'ESTU_MCPIO_PRESENTACION', 'ESTU_DEPTO_PRESENTACION',\n",
              "       'ESTU_COD_DEPTO_PRESENTACION', 'PUNT_LECTURA_CRITICA',\n",
              "       'PERCENTIL_LECTURA_CRITICA', 'DESEMP_LECTURA_CRITICA',\n",
              "       'PUNT_MATEMATICAS', 'PERCENTIL_MATEMATICAS', 'DESEMP_MATEMATICAS',\n",
              "       'PUNT_C_NATURALES', 'PERCENTIL_C_NATURALES', 'DESEMP_C_NATURALES',\n",
              "       'PUNT_SOCIALES_CIUDADANAS', 'PERCENTIL_SOCIALES_CIUDADANAS',\n",
              "       'DESEMP_SOCIALES_CIUDADANAS', 'PUNT_INGLES', 'PERCENTIL_INGLES',\n",
              "       'DESEMP_INGLES', 'PUNT_GLOBAL', 'PERCENTIL_GLOBAL',\n",
              "       'ESTU_INSE_INDIVIDUAL', 'ESTU_NSE_INDIVIDUAL',\n",
              "       'ESTU_NSE_ESTABLECIMIENTO', 'ESTU_ESTADOINVESTIGACION',\n",
              "       'ESTU_GENERACION-E'],\n",
              "      dtype='object')"
            ]
          },
          "metadata": {},
          "execution_count": 86
        }
      ],
      "source": [
        "# La función columns, devuelve el nombre de las columnas del dataframe\n",
        "\n",
        "df_resultados_2020_2.columns"
      ]
    },
    {
      "cell_type": "code",
      "execution_count": 89,
      "metadata": {
        "id": "369sypWJPuc1",
        "colab": {
          "base_uri": "https://localhost:8080/"
        },
        "outputId": "f4d14a1a-d58d-4f8e-80fc-570e328cd770"
      },
      "outputs": [
        {
          "output_type": "stream",
          "name": "stdout",
          "text": [
            "<class 'pandas.core.frame.DataFrame'>\n",
            "RangeIndex: 504872 entries, 0 to 504871\n",
            "Data columns (total 81 columns):\n",
            " #   Column                         Non-Null Count   Dtype  \n",
            "---  ------                         --------------   -----  \n",
            " 0   ESTU_TIPODOCUMENTO             504872 non-null  object \n",
            " 1   ESTU_NACIONALIDAD              504872 non-null  object \n",
            " 2   ESTU_GENERO                    504864 non-null  object \n",
            " 3   ESTU_FECHANACIMIENTO           504872 non-null  object \n",
            " 4   PERIODO                        504872 non-null  int64  \n",
            " 5   ESTU_CONSECUTIVO               504872 non-null  object \n",
            " 6   ESTU_ESTUDIANTE                504872 non-null  object \n",
            " 7   ESTU_PAIS_RESIDE               504872 non-null  object \n",
            " 8   ESTU_TIENEETNIA                501879 non-null  object \n",
            " 9   ESTU_DEPTO_RESIDE              504870 non-null  object \n",
            " 10  ESTU_COD_RESIDE_DEPTO          504870 non-null  float64\n",
            " 11  ESTU_MCPIO_RESIDE              504870 non-null  object \n",
            " 12  ESTU_COD_RESIDE_MCPIO          504870 non-null  float64\n",
            " 13  FAMI_ESTRATOVIVIENDA           487920 non-null  object \n",
            " 14  FAMI_PERSONASHOGAR             489699 non-null  object \n",
            " 15  FAMI_CUARTOSHOGAR              489033 non-null  object \n",
            " 16  FAMI_EDUCACIONPADRE            491882 non-null  object \n",
            " 17  FAMI_EDUCACIONMADRE            491386 non-null  object \n",
            " 18  FAMI_TRABAJOLABORPADRE         485181 non-null  object \n",
            " 19  FAMI_TRABAJOLABORMADRE         487273 non-null  object \n",
            " 20  FAMI_TIENEINTERNET             491207 non-null  object \n",
            " 21  FAMI_TIENESERVICIOTV           489433 non-null  object \n",
            " 22  FAMI_TIENECOMPUTADOR           484678 non-null  object \n",
            " 23  FAMI_TIENELAVADORA             488640 non-null  object \n",
            " 24  FAMI_TIENEHORNOMICROOGAS       487730 non-null  object \n",
            " 25  FAMI_TIENEAUTOMOVIL            487063 non-null  object \n",
            " 26  FAMI_TIENEMOTOCICLETA          487786 non-null  object \n",
            " 27  FAMI_TIENECONSOLAVIDEOJUEGOS   487394 non-null  object \n",
            " 28  FAMI_NUMLIBROS                 491029 non-null  object \n",
            " 29  FAMI_COMELECHEDERIVADOS        491244 non-null  object \n",
            " 30  FAMI_COMECARNEPESCADOHUEVO     489566 non-null  object \n",
            " 31  FAMI_COMECEREALFRUTOSLEGUMBRE  484609 non-null  object \n",
            " 32  FAMI_SITUACIONECONOMICA        488558 non-null  object \n",
            " 33  ESTU_DEDICACIONLECTURADIARIA   490391 non-null  object \n",
            " 34  ESTU_DEDICACIONINTERNET        490246 non-null  object \n",
            " 35  ESTU_HORASSEMANATRABAJA        487888 non-null  object \n",
            " 36  ESTU_TIPOREMUNERACION          487226 non-null  object \n",
            " 37  COLE_CODIGO_ICFES              504872 non-null  int64  \n",
            " 38  COLE_COD_DANE_ESTABLECIMIENTO  504872 non-null  int64  \n",
            " 39  COLE_NOMBRE_ESTABLECIMIENTO    504872 non-null  object \n",
            " 40  COLE_GENERO                    504872 non-null  object \n",
            " 41  COLE_NATURALEZA                504872 non-null  object \n",
            " 42  COLE_CALENDARIO                504872 non-null  object \n",
            " 43  COLE_BILINGUE                  421865 non-null  object \n",
            " 44  COLE_CARACTER                  490695 non-null  object \n",
            " 45  COLE_COD_DANE_SEDE             504872 non-null  int64  \n",
            " 46  COLE_NOMBRE_SEDE               504872 non-null  object \n",
            " 47  COLE_SEDE_PRINCIPAL            504872 non-null  object \n",
            " 48  COLE_AREA_UBICACION            504872 non-null  object \n",
            " 49  COLE_JORNADA                   504872 non-null  object \n",
            " 50  COLE_COD_MCPIO_UBICACION       504872 non-null  int64  \n",
            " 51  COLE_MCPIO_UBICACION           504872 non-null  object \n",
            " 52  COLE_COD_DEPTO_UBICACION       504872 non-null  int64  \n",
            " 53  COLE_DEPTO_UBICACION           504872 non-null  object \n",
            " 54  ESTU_PRIVADO_LIBERTAD          504872 non-null  object \n",
            " 55  ESTU_COD_MCPIO_PRESENTACION    504664 non-null  float64\n",
            " 56  ESTU_MCPIO_PRESENTACION        504664 non-null  object \n",
            " 57  ESTU_DEPTO_PRESENTACION        504664 non-null  object \n",
            " 58  ESTU_COD_DEPTO_PRESENTACION    504664 non-null  float64\n",
            " 59  PUNT_LECTURA_CRITICA           504872 non-null  int64  \n",
            " 60  PERCENTIL_LECTURA_CRITICA      504872 non-null  int64  \n",
            " 61  DESEMP_LECTURA_CRITICA         504872 non-null  int64  \n",
            " 62  PUNT_MATEMATICAS               504872 non-null  int64  \n",
            " 63  PERCENTIL_MATEMATICAS          504872 non-null  int64  \n",
            " 64  DESEMP_MATEMATICAS             504872 non-null  int64  \n",
            " 65  PUNT_C_NATURALES               504872 non-null  int64  \n",
            " 66  PERCENTIL_C_NATURALES          504872 non-null  int64  \n",
            " 67  DESEMP_C_NATURALES             504872 non-null  int64  \n",
            " 68  PUNT_SOCIALES_CIUDADANAS       504872 non-null  int64  \n",
            " 69  PERCENTIL_SOCIALES_CIUDADANAS  504872 non-null  int64  \n",
            " 70  DESEMP_SOCIALES_CIUDADANAS     504872 non-null  int64  \n",
            " 71  PUNT_INGLES                    504538 non-null  float64\n",
            " 72  PERCENTIL_INGLES               504872 non-null  int64  \n",
            " 73  DESEMP_INGLES                  504872 non-null  object \n",
            " 74  PUNT_GLOBAL                    504872 non-null  int64  \n",
            " 75  PERCENTIL_GLOBAL               504872 non-null  int64  \n",
            " 76  ESTU_INSE_INDIVIDUAL           490927 non-null  float64\n",
            " 77  ESTU_NSE_INDIVIDUAL            490927 non-null  float64\n",
            " 78  ESTU_NSE_ESTABLECIMIENTO       504823 non-null  float64\n",
            " 79  ESTU_ESTADOINVESTIGACION       504872 non-null  object \n",
            " 80  ESTU_GENERACION-E              504872 non-null  object \n",
            "dtypes: float64(8), int64(21), object(52)\n",
            "memory usage: 312.0+ MB\n"
          ]
        }
      ],
      "source": [
        "# la función info, devuelve la cantidad, información y tipo de dato de las 82 columnas del dataframe columnas\n",
        "\n",
        "df_resultados_2020_2.info()"
      ]
    },
    {
      "cell_type": "code",
      "execution_count": 87,
      "metadata": {
        "id": "sdndf649Puc1",
        "colab": {
          "base_uri": "https://localhost:8080/",
          "height": 424
        },
        "outputId": "a7dc71c6-23de-47f1-e4e7-db809ff25be1"
      },
      "outputs": [
        {
          "output_type": "execute_result",
          "data": {
            "text/plain": [
              "                         Columnas  Porcentajes_vacios\n",
              "0                   COLE_BILINGUE           16.441197\n",
              "1   FAMI_COMECEREALFRUTOSLEGUMBRE            4.013493\n",
              "2            FAMI_TIENECOMPUTADOR            3.999826\n",
              "3          FAMI_TRABAJOLABORPADRE            3.900196\n",
              "4             FAMI_TIENEAUTOMOVIL            3.527429\n",
              "..                            ...                 ...\n",
              "76                   COLE_JORNADA            0.000000\n",
              "77       COLE_COD_MCPIO_UBICACION            0.000000\n",
              "78           COLE_MCPIO_UBICACION            0.000000\n",
              "79       COLE_COD_DEPTO_UBICACION            0.000000\n",
              "80              ESTU_GENERACION-E            0.000000\n",
              "\n",
              "[81 rows x 2 columns]"
            ],
            "text/html": [
              "\n",
              "  <div id=\"df-1862d513-dd74-493c-8f13-4432e2de0456\" class=\"colab-df-container\">\n",
              "    <div>\n",
              "<style scoped>\n",
              "    .dataframe tbody tr th:only-of-type {\n",
              "        vertical-align: middle;\n",
              "    }\n",
              "\n",
              "    .dataframe tbody tr th {\n",
              "        vertical-align: top;\n",
              "    }\n",
              "\n",
              "    .dataframe thead th {\n",
              "        text-align: right;\n",
              "    }\n",
              "</style>\n",
              "<table border=\"1\" class=\"dataframe\">\n",
              "  <thead>\n",
              "    <tr style=\"text-align: right;\">\n",
              "      <th></th>\n",
              "      <th>Columnas</th>\n",
              "      <th>Porcentajes_vacios</th>\n",
              "    </tr>\n",
              "  </thead>\n",
              "  <tbody>\n",
              "    <tr>\n",
              "      <th>0</th>\n",
              "      <td>COLE_BILINGUE</td>\n",
              "      <td>16.441197</td>\n",
              "    </tr>\n",
              "    <tr>\n",
              "      <th>1</th>\n",
              "      <td>FAMI_COMECEREALFRUTOSLEGUMBRE</td>\n",
              "      <td>4.013493</td>\n",
              "    </tr>\n",
              "    <tr>\n",
              "      <th>2</th>\n",
              "      <td>FAMI_TIENECOMPUTADOR</td>\n",
              "      <td>3.999826</td>\n",
              "    </tr>\n",
              "    <tr>\n",
              "      <th>3</th>\n",
              "      <td>FAMI_TRABAJOLABORPADRE</td>\n",
              "      <td>3.900196</td>\n",
              "    </tr>\n",
              "    <tr>\n",
              "      <th>4</th>\n",
              "      <td>FAMI_TIENEAUTOMOVIL</td>\n",
              "      <td>3.527429</td>\n",
              "    </tr>\n",
              "    <tr>\n",
              "      <th>...</th>\n",
              "      <td>...</td>\n",
              "      <td>...</td>\n",
              "    </tr>\n",
              "    <tr>\n",
              "      <th>76</th>\n",
              "      <td>COLE_JORNADA</td>\n",
              "      <td>0.000000</td>\n",
              "    </tr>\n",
              "    <tr>\n",
              "      <th>77</th>\n",
              "      <td>COLE_COD_MCPIO_UBICACION</td>\n",
              "      <td>0.000000</td>\n",
              "    </tr>\n",
              "    <tr>\n",
              "      <th>78</th>\n",
              "      <td>COLE_MCPIO_UBICACION</td>\n",
              "      <td>0.000000</td>\n",
              "    </tr>\n",
              "    <tr>\n",
              "      <th>79</th>\n",
              "      <td>COLE_COD_DEPTO_UBICACION</td>\n",
              "      <td>0.000000</td>\n",
              "    </tr>\n",
              "    <tr>\n",
              "      <th>80</th>\n",
              "      <td>ESTU_GENERACION-E</td>\n",
              "      <td>0.000000</td>\n",
              "    </tr>\n",
              "  </tbody>\n",
              "</table>\n",
              "<p>81 rows × 2 columns</p>\n",
              "</div>\n",
              "    <div class=\"colab-df-buttons\">\n",
              "\n",
              "  <div class=\"colab-df-container\">\n",
              "    <button class=\"colab-df-convert\" onclick=\"convertToInteractive('df-1862d513-dd74-493c-8f13-4432e2de0456')\"\n",
              "            title=\"Convert this dataframe to an interactive table.\"\n",
              "            style=\"display:none;\">\n",
              "\n",
              "  <svg xmlns=\"http://www.w3.org/2000/svg\" height=\"24px\" viewBox=\"0 -960 960 960\">\n",
              "    <path d=\"M120-120v-720h720v720H120Zm60-500h600v-160H180v160Zm220 220h160v-160H400v160Zm0 220h160v-160H400v160ZM180-400h160v-160H180v160Zm440 0h160v-160H620v160ZM180-180h160v-160H180v160Zm440 0h160v-160H620v160Z\"/>\n",
              "  </svg>\n",
              "    </button>\n",
              "\n",
              "  <style>\n",
              "    .colab-df-container {\n",
              "      display:flex;\n",
              "      gap: 12px;\n",
              "    }\n",
              "\n",
              "    .colab-df-convert {\n",
              "      background-color: #E8F0FE;\n",
              "      border: none;\n",
              "      border-radius: 50%;\n",
              "      cursor: pointer;\n",
              "      display: none;\n",
              "      fill: #1967D2;\n",
              "      height: 32px;\n",
              "      padding: 0 0 0 0;\n",
              "      width: 32px;\n",
              "    }\n",
              "\n",
              "    .colab-df-convert:hover {\n",
              "      background-color: #E2EBFA;\n",
              "      box-shadow: 0px 1px 2px rgba(60, 64, 67, 0.3), 0px 1px 3px 1px rgba(60, 64, 67, 0.15);\n",
              "      fill: #174EA6;\n",
              "    }\n",
              "\n",
              "    .colab-df-buttons div {\n",
              "      margin-bottom: 4px;\n",
              "    }\n",
              "\n",
              "    [theme=dark] .colab-df-convert {\n",
              "      background-color: #3B4455;\n",
              "      fill: #D2E3FC;\n",
              "    }\n",
              "\n",
              "    [theme=dark] .colab-df-convert:hover {\n",
              "      background-color: #434B5C;\n",
              "      box-shadow: 0px 1px 3px 1px rgba(0, 0, 0, 0.15);\n",
              "      filter: drop-shadow(0px 1px 2px rgba(0, 0, 0, 0.3));\n",
              "      fill: #FFFFFF;\n",
              "    }\n",
              "  </style>\n",
              "\n",
              "    <script>\n",
              "      const buttonEl =\n",
              "        document.querySelector('#df-1862d513-dd74-493c-8f13-4432e2de0456 button.colab-df-convert');\n",
              "      buttonEl.style.display =\n",
              "        google.colab.kernel.accessAllowed ? 'block' : 'none';\n",
              "\n",
              "      async function convertToInteractive(key) {\n",
              "        const element = document.querySelector('#df-1862d513-dd74-493c-8f13-4432e2de0456');\n",
              "        const dataTable =\n",
              "          await google.colab.kernel.invokeFunction('convertToInteractive',\n",
              "                                                    [key], {});\n",
              "        if (!dataTable) return;\n",
              "\n",
              "        const docLinkHtml = 'Like what you see? Visit the ' +\n",
              "          '<a target=\"_blank\" href=https://colab.research.google.com/notebooks/data_table.ipynb>data table notebook</a>'\n",
              "          + ' to learn more about interactive tables.';\n",
              "        element.innerHTML = '';\n",
              "        dataTable['output_type'] = 'display_data';\n",
              "        await google.colab.output.renderOutput(dataTable, element);\n",
              "        const docLink = document.createElement('div');\n",
              "        docLink.innerHTML = docLinkHtml;\n",
              "        element.appendChild(docLink);\n",
              "      }\n",
              "    </script>\n",
              "  </div>\n",
              "\n",
              "\n",
              "<div id=\"df-46d05f9e-19ef-480e-85c1-98a770194780\">\n",
              "  <button class=\"colab-df-quickchart\" onclick=\"quickchart('df-46d05f9e-19ef-480e-85c1-98a770194780')\"\n",
              "            title=\"Suggest charts\"\n",
              "            style=\"display:none;\">\n",
              "\n",
              "<svg xmlns=\"http://www.w3.org/2000/svg\" height=\"24px\"viewBox=\"0 0 24 24\"\n",
              "     width=\"24px\">\n",
              "    <g>\n",
              "        <path d=\"M19 3H5c-1.1 0-2 .9-2 2v14c0 1.1.9 2 2 2h14c1.1 0 2-.9 2-2V5c0-1.1-.9-2-2-2zM9 17H7v-7h2v7zm4 0h-2V7h2v10zm4 0h-2v-4h2v4z\"/>\n",
              "    </g>\n",
              "</svg>\n",
              "  </button>\n",
              "\n",
              "<style>\n",
              "  .colab-df-quickchart {\n",
              "      --bg-color: #E8F0FE;\n",
              "      --fill-color: #1967D2;\n",
              "      --hover-bg-color: #E2EBFA;\n",
              "      --hover-fill-color: #174EA6;\n",
              "      --disabled-fill-color: #AAA;\n",
              "      --disabled-bg-color: #DDD;\n",
              "  }\n",
              "\n",
              "  [theme=dark] .colab-df-quickchart {\n",
              "      --bg-color: #3B4455;\n",
              "      --fill-color: #D2E3FC;\n",
              "      --hover-bg-color: #434B5C;\n",
              "      --hover-fill-color: #FFFFFF;\n",
              "      --disabled-bg-color: #3B4455;\n",
              "      --disabled-fill-color: #666;\n",
              "  }\n",
              "\n",
              "  .colab-df-quickchart {\n",
              "    background-color: var(--bg-color);\n",
              "    border: none;\n",
              "    border-radius: 50%;\n",
              "    cursor: pointer;\n",
              "    display: none;\n",
              "    fill: var(--fill-color);\n",
              "    height: 32px;\n",
              "    padding: 0;\n",
              "    width: 32px;\n",
              "  }\n",
              "\n",
              "  .colab-df-quickchart:hover {\n",
              "    background-color: var(--hover-bg-color);\n",
              "    box-shadow: 0 1px 2px rgba(60, 64, 67, 0.3), 0 1px 3px 1px rgba(60, 64, 67, 0.15);\n",
              "    fill: var(--button-hover-fill-color);\n",
              "  }\n",
              "\n",
              "  .colab-df-quickchart-complete:disabled,\n",
              "  .colab-df-quickchart-complete:disabled:hover {\n",
              "    background-color: var(--disabled-bg-color);\n",
              "    fill: var(--disabled-fill-color);\n",
              "    box-shadow: none;\n",
              "  }\n",
              "\n",
              "  .colab-df-spinner {\n",
              "    border: 2px solid var(--fill-color);\n",
              "    border-color: transparent;\n",
              "    border-bottom-color: var(--fill-color);\n",
              "    animation:\n",
              "      spin 1s steps(1) infinite;\n",
              "  }\n",
              "\n",
              "  @keyframes spin {\n",
              "    0% {\n",
              "      border-color: transparent;\n",
              "      border-bottom-color: var(--fill-color);\n",
              "      border-left-color: var(--fill-color);\n",
              "    }\n",
              "    20% {\n",
              "      border-color: transparent;\n",
              "      border-left-color: var(--fill-color);\n",
              "      border-top-color: var(--fill-color);\n",
              "    }\n",
              "    30% {\n",
              "      border-color: transparent;\n",
              "      border-left-color: var(--fill-color);\n",
              "      border-top-color: var(--fill-color);\n",
              "      border-right-color: var(--fill-color);\n",
              "    }\n",
              "    40% {\n",
              "      border-color: transparent;\n",
              "      border-right-color: var(--fill-color);\n",
              "      border-top-color: var(--fill-color);\n",
              "    }\n",
              "    60% {\n",
              "      border-color: transparent;\n",
              "      border-right-color: var(--fill-color);\n",
              "    }\n",
              "    80% {\n",
              "      border-color: transparent;\n",
              "      border-right-color: var(--fill-color);\n",
              "      border-bottom-color: var(--fill-color);\n",
              "    }\n",
              "    90% {\n",
              "      border-color: transparent;\n",
              "      border-bottom-color: var(--fill-color);\n",
              "    }\n",
              "  }\n",
              "</style>\n",
              "\n",
              "  <script>\n",
              "    async function quickchart(key) {\n",
              "      const quickchartButtonEl =\n",
              "        document.querySelector('#' + key + ' button');\n",
              "      quickchartButtonEl.disabled = true;  // To prevent multiple clicks.\n",
              "      quickchartButtonEl.classList.add('colab-df-spinner');\n",
              "      try {\n",
              "        const charts = await google.colab.kernel.invokeFunction(\n",
              "            'suggestCharts', [key], {});\n",
              "      } catch (error) {\n",
              "        console.error('Error during call to suggestCharts:', error);\n",
              "      }\n",
              "      quickchartButtonEl.classList.remove('colab-df-spinner');\n",
              "      quickchartButtonEl.classList.add('colab-df-quickchart-complete');\n",
              "    }\n",
              "    (() => {\n",
              "      let quickchartButtonEl =\n",
              "        document.querySelector('#df-46d05f9e-19ef-480e-85c1-98a770194780 button');\n",
              "      quickchartButtonEl.style.display =\n",
              "        google.colab.kernel.accessAllowed ? 'block' : 'none';\n",
              "    })();\n",
              "  </script>\n",
              "</div>\n",
              "\n",
              "    </div>\n",
              "  </div>\n"
            ],
            "application/vnd.google.colaboratory.intrinsic+json": {
              "type": "dataframe",
              "summary": "{\n  \"name\": \"missing_value_df\",\n  \"rows\": 81,\n  \"fields\": [\n    {\n      \"column\": \"Columnas\",\n      \"properties\": {\n        \"dtype\": \"string\",\n        \"num_unique_values\": 81,\n        \"samples\": [\n          \"ESTU_COD_MCPIO_PRESENTACION\",\n          \"COLE_BILINGUE\",\n          \"ESTU_NSE_INDIVIDUAL\"\n        ],\n        \"semantic_type\": \"\",\n        \"description\": \"\"\n      }\n    },\n    {\n      \"column\": \"Porcentajes_vacios\",\n      \"properties\": {\n        \"dtype\": \"number\",\n        \"std\": 2.279410490933053,\n        \"min\": 0.0,\n        \"max\": 16.44119697665943,\n        \"num_unique_values\": 34,\n        \"samples\": [\n          3.0580028205168834,\n          2.868251754900252,\n          0.5928235275475764\n        ],\n        \"semantic_type\": \"\",\n        \"description\": \"\"\n      }\n    }\n  ]\n}"
            }
          },
          "metadata": {},
          "execution_count": 87
        }
      ],
      "source": [
        "# Identificación de porcentajes faltantes por columnas\n",
        "\n",
        "df_resultados_2020_2 = df_resultados_2020_2.replace(r'^\\s*$', np.nan, regex=True)\n",
        "percent_missing = df_resultados_2020_2.isnull().sum() * 100 / len(df_resultados_2020_2)\n",
        "missing_value_df = pd.DataFrame({'Columnas': df_resultados_2020_2.columns,\n",
        "                                 'Porcentajes_vacios': percent_missing})\n",
        "missing_value_df.sort_values(by=\"Porcentajes_vacios\", ascending= False).reset_index(drop=True)"
      ]
    },
    {
      "cell_type": "markdown",
      "metadata": {
        "id": "ZA1kSZHQPuc3"
      },
      "source": [
        "## Conexión a fuente de datos: API"
      ]
    },
    {
      "cell_type": "markdown",
      "metadata": {
        "id": "E4y2oCDTPuc3"
      },
      "source": [
        "Una API (Interfaz de Programación de Aplicaciones, por sus siglas en inglés) es un conjunto de reglas y protocolos que permite que diferentes aplicaciones se comuniquen entre sí. En términos más simples, una API define cómo interactuar con un sistema o servicio informático para realizar ciertas operaciones o acceder a determinados recursos.\n",
        "\n",
        "`Nota: Recursos recomendados:`\n",
        "- https://aws.amazon.com/es/what-is/api/\n",
        "- https://dossetenta.com/que-es-una-api-rest/\n",
        "\n",
        "Una API puede ofrecer una variedad de funcionalidades, como acceder a datos, realizar operaciones específicas, controlar dispositivos o sistemas, entre otras. Por lo general, las API están diseñadas para ser utilizadas por otros programas informáticos en lugar de usuarios directamente, aunque en algunos casos también pueden ser accesibles para usuarios finales a través de interfaces de usuario específicas."
      ]
    },
    {
      "cell_type": "markdown",
      "metadata": {
        "id": "TUoHYzqjPuc3"
      },
      "source": [
        "Probando , \"[image.png](attachment:image.png)\"\n"
      ]
    },
    {
      "cell_type": "markdown",
      "metadata": {
        "id": "Mj17IxEDPuc3"
      },
      "source": [
        "Para establecer una conexión a una API, generalmente se necesitan dos componentes principales:\n",
        "\n",
        "- `URL de la API:` Es la dirección web que identifica la ubicación y los recursos disponibles en la API. Esta URL incluye endpoints específicos que representan las diferentes funcionalidades o recursos que la API ofrece.\n",
        "\n",
        "- `Métodos de solicitud:` Son los diferentes tipos de acciones que se pueden realizar en la API, como obtener datos (mediante el método GET), enviar datos (mediante el método POST), actualizar datos (mediante el método PUT o PATCH), o eliminar datos (mediante el método DELETE).\n",
        "\n",
        "Al enviar una solicitud a la URL de la API utilizando uno de los métodos de solicitud, el programa espera una respuesta de la API que puede contener los datos solicitados o información sobre el éxito o fracaso de la operación realizada."
      ]
    },
    {
      "cell_type": "markdown",
      "metadata": {
        "id": "y6VfTac0Puc3"
      },
      "source": [
        "### Información del conjunto de datos: Saber 11° 2020-1"
      ]
    },
    {
      "cell_type": "markdown",
      "metadata": {
        "id": "pxQew_WePuc3"
      },
      "source": [
        "- Objetivo: Consumir y construir un DataFrame con resultados de las pruebas saber 11° correspondientes al segundo semestre del año 2019.\n",
        "\n",
        "- Esta fuente de datos es extraida de [Datos Abiertos Colombia](https://www.datos.gov.co/) , Los datos abiertos son información pública dispuesta en formatos que permiten su uso y reutilización bajo licencia abierta y sin restricciones legales para su aprovechamiento.\n",
        "\n",
        "- Este conjunto de datos, está compuesto por datos anonimizados sobre los resultados y características de los resultados de las pruebas saber 11 correspondientes al segundo semestre del año 2021"
      ]
    },
    {
      "cell_type": "markdown",
      "metadata": {
        "id": "_SA2J-DoPuc4"
      },
      "source": [
        "### Ficha técnica"
      ]
    },
    {
      "cell_type": "markdown",
      "metadata": {
        "id": "YKP9fPjePuc4"
      },
      "source": [
        "Información General:\n",
        "\n",
        "- Fuente de datos: [Datos abiertos Colombia - Saber 11° 2020-1](https://www.datos.gov.co/Educaci-n/Saber-11-2020-1/a8xr-en99/about_data)\n",
        "- Fecha de creación: 15 de marzo de 2021\n",
        "- Filas: 15.435\n",
        "- Columnas: 78\n",
        "- Vistas: 2843 (a la fecha de descarga)\n",
        "- Descargas: 1222 (a la fecha de descarga)\n",
        "\n",
        "Información de la entidad:\n",
        "\n",
        "- Área o dependencia: Oficina Asesora de Planeación\n",
        "- Nombre de la entidad: Instituto Colombiano para la Evaluación de la Educación\n",
        "- Departamento: Bogotá D.C.\n",
        "- Municipio: Bogotá D.C.\n",
        "- Orden: Nacional\n",
        "- Sector: Educación\n",
        "\n",
        "Información del conjunto de datos:\n",
        "\n",
        "- Idioma: Español\n",
        "- URL de documenación: http://www.icfes.gov.co/investigadores-y-estudiantes-posgrado/acceso-a-bases-de-datos\n",
        "- URL de normativa: http://www.icfes.gov.co/normatividad\n",
        "\n",
        "Temas:\n",
        "\n",
        "- Categoría: Educación\n",
        "- Etiquetas: `pruebas icfes`,`icfes`,`saber 11`,`resultados`"
      ]
    },
    {
      "cell_type": "markdown",
      "metadata": {
        "id": "DpDcyKHSPuc4"
      },
      "source": [
        "### Conexión y consulta a la fuente de datos"
      ]
    },
    {
      "cell_type": "markdown",
      "metadata": {
        "id": "S5jmr8TAPuc4"
      },
      "source": [
        "En algunos casos, consumir la API puede ser una buena opción (sobre todo por la actualización constante de datos desde su fuente original para tener metricas en tiempo real.), pero hay que tener la certeza de que al consumir dicho recurso, podamos contar con la totalidad de los registros, desde el equipo de Ingeniería de Datos podrían ayudar a confirmar eso.\n",
        "\n",
        "Sin embargo, al ser una fuente de datos abierta (pública), y no tener un contacto directo, podemos observar que al primer consumo, no contamos con la totalidad de los registros"
      ]
    },
    {
      "cell_type": "markdown",
      "metadata": {
        "id": "Z_CiPviRPuc4"
      },
      "source": [
        "![image.png](attachment:image.png)"
      ]
    },
    {
      "cell_type": "markdown",
      "metadata": {
        "id": "sxi60qHAPuc4"
      },
      "source": [
        "![image.png](attachment:image.png)"
      ]
    },
    {
      "cell_type": "markdown",
      "metadata": {
        "id": "WcwyaxQzPuc4"
      },
      "source": [
        "Y si realizamos la prueba, podemos ver que en si, son solo 1000 registros, no contamos con la totalidad de ellos"
      ]
    },
    {
      "cell_type": "code",
      "execution_count": null,
      "metadata": {
        "id": "NPZbp9iCPuc4"
      },
      "outputs": [],
      "source": [
        "\n",
        "    # Leer el archivo CSV ubicado en la ruta especificada y asigna los datos a la variable df_resultados\n",
        "\n",
        "\n",
        "    # Si la lectura del archivo es exitosa, imprime un mensaje indicando que el dataset se cargó correctamente\n",
        "\n",
        "\n",
        "# Si se produce un error específico de \"FileNotFoundError\" (archivo no encontrado), ejecuta este bloque de código\n",
        "\n",
        "\n",
        "    # Imprime un mensaje de error personalizado indicando que el archivo no se pudo encontrar, junto con los detalles específicos del error\n",
        "\n",
        "\n",
        "# Si se produce cualquier otro tipo de error, ejecuta este bloque de código\n",
        "\n",
        "\n",
        "    # Imprime un mensaje de error genérico indicando que ocurrió un error inesperado, junto con los detalles específicos del error\n"
      ]
    },
    {
      "cell_type": "code",
      "execution_count": null,
      "metadata": {
        "id": "SGqZV0jIPuc4"
      },
      "outputs": [],
      "source": [
        "# Se crea un DataFrame nuevo, utilizando los datos existentes del dataset\n"
      ]
    },
    {
      "cell_type": "code",
      "execution_count": null,
      "metadata": {
        "id": "6yg3P8RbPuc4"
      },
      "outputs": [],
      "source": [
        "# Consulta y validación de la cantidad de filas y columnas del dataframe\n",
        "\n",
        "\n",
        "# Imprimir mensaje y valores de salidas del dataframe\n"
      ]
    },
    {
      "cell_type": "markdown",
      "metadata": {
        "id": "Tin7W74PPuc4"
      },
      "source": [
        "Con la intención de remediar esta situación, ciertos portales de datos abiertos (es posible que no todos) posibilitan y facilitan el acceso directo a través de una interfaz programable. En este caso, contamos con este recurso disponible.\n",
        "\n",
        "Damos clic en la opción de `Consultar la documentación`, y nos remite a la siguiente URL: https://dev.socrata.com/foundry/www.datos.gov.co/a8xr-en99\n",
        "\n",
        "Nos dirigimos hasta la parte inferior, la parte final del menú `Code Snippets`, seleccionamos la opción de `Python Pandas` que nos entrega un script de Python que copiamos para reutilizar"
      ]
    },
    {
      "cell_type": "markdown",
      "metadata": {
        "id": "xQkmY0BFPuc4"
      },
      "source": [
        "![image.png](attachment:image.png)"
      ]
    },
    {
      "cell_type": "markdown",
      "metadata": {
        "id": "_KjvURluPuc4"
      },
      "source": [
        "Podemos observar, desde un inicio, que nos pide usar la libreria `sodapy` ¿qué es o hace esta libreria?\n",
        "\n",
        "La librería sodapy es una herramienta en Python que proporciona una forma sencilla de interactuar con la `API de Socrata`. `Socrata` es una plataforma que facilita a los gobiernos, organizaciones sin fines de lucro y empresas compartir datos de manera abierta y accesible al público a través de APIs.\n",
        "\n",
        "La librería sodapy simplifica el proceso de consulta y descarga de conjuntos de datos alojados en plataformas que utilizan Socrata. Al utilizar sodapy, los usuarios pueden realizar operaciones como:\n",
        "\n",
        "- Consultar conjuntos de datos específicos.\n",
        "- Filtrar datos basados en criterios específicos.\n",
        "- Descargar datos en formato tabular, como CSV o JSON.\n",
        "- Realizar operaciones de paginación para manejar grandes volúmenes de datos.\n",
        "- Acceder a metadatos sobre los conjuntos de datos disponibles.\n",
        "\n",
        "URL oficial: https://pypi.org/project/sodapy/"
      ]
    },
    {
      "cell_type": "code",
      "execution_count": null,
      "metadata": {
        "id": "6ZqRMK0vPuc5"
      },
      "outputs": [],
      "source": [
        "# Instalación de sodapy\n"
      ]
    },
    {
      "cell_type": "code",
      "execution_count": null,
      "metadata": {
        "id": "j4od6lhmPuc5"
      },
      "outputs": [],
      "source": [
        "\n",
        "\n",
        "# Unauthenticated client only works with public data sets. Note 'None'\n",
        "# in place of application token, and no username or password:\n",
        "\n",
        "\n",
        "# Example authenticated client (needed for non-public datasets):\n",
        "# client = Socrata(www.datos.gov.co,\n",
        "#                  MyAppToken,\n",
        "#                  username=\"user@example.com\",\n",
        "#                  password=\"AFakePassword\")\n",
        "\n",
        "# First 2000 results, returned as JSON from API / converted to Python list of\n",
        "# dictionaries by sodapy.\n",
        "\n",
        "\n",
        "# Convert to pandas DataFrame\n"
      ]
    },
    {
      "cell_type": "code",
      "execution_count": null,
      "metadata": {
        "id": "8v6kvDdrPuc5"
      },
      "outputs": [],
      "source": [
        "# Se crea un DataFrame nuevo, utilizando los datos existentes del dataset\n"
      ]
    },
    {
      "cell_type": "code",
      "execution_count": null,
      "metadata": {
        "id": "RjAZkBeePuc5"
      },
      "outputs": [],
      "source": [
        "# Consulta y validación de la cantidad de filas y columnas del dataframe\n",
        "\n",
        "\n",
        "# Imprimir mensaje y valores de salidas del dataframe\n"
      ]
    },
    {
      "cell_type": "code",
      "execution_count": null,
      "metadata": {
        "id": "1_ON5xamPuc5"
      },
      "outputs": [],
      "source": [
        "#  Imprimir el dataframe\n"
      ]
    },
    {
      "cell_type": "code",
      "execution_count": null,
      "metadata": {
        "id": "GI3JN0f2Puc5"
      },
      "outputs": [],
      "source": [
        "# La función head, devuelve la cantidad de primeras filas/registros solicitada del dataframe\n",
        "\n"
      ]
    },
    {
      "cell_type": "code",
      "execution_count": null,
      "metadata": {
        "id": "i6SOQCxgPuc5"
      },
      "outputs": [],
      "source": [
        "# La función tail, devuelve la cantidad de últimas filas/registros solicitada del dataframe\n",
        "\n"
      ]
    },
    {
      "cell_type": "code",
      "execution_count": null,
      "metadata": {
        "id": "YzXl6-slPuc5"
      },
      "outputs": [],
      "source": [
        "# La función sample, devuelve la cantidad aleatorias de filas/registros solicitada del dataframe\n",
        "\n"
      ]
    },
    {
      "cell_type": "code",
      "execution_count": null,
      "metadata": {
        "id": "fjvjVyvgPuc6"
      },
      "outputs": [],
      "source": [
        "# La función columns, devuelve el nombre de las columnas del dataframe\n",
        "\n"
      ]
    },
    {
      "cell_type": "code",
      "execution_count": null,
      "metadata": {
        "id": "EJCoKuVDPuc6"
      },
      "outputs": [],
      "source": [
        "# la función info, devuelve la cantidad, información y tipo de dato de las 82 columnas del dataframe columnas\n",
        "\n"
      ]
    },
    {
      "cell_type": "code",
      "execution_count": null,
      "metadata": {
        "id": "MGsNw738Puc6"
      },
      "outputs": [],
      "source": [
        "# Identificación de porcentajes faltantes por columnas\n",
        "\n"
      ]
    },
    {
      "cell_type": "markdown",
      "metadata": {
        "id": "LM2mzgWBPuc6"
      },
      "source": [
        "## Conexión a fuente de datos: SQL Server"
      ]
    },
    {
      "cell_type": "markdown",
      "metadata": {
        "id": "onORLDsFPuc6"
      },
      "source": [
        "Una conexión a SQL Server es un enlace establecido entre una aplicación o programa y un servidor de base de datos SQL Server. SQL Server es un sistema de gestión de bases de datos relacional desarrollado por Microsoft, utilizado para almacenar, recuperar y administrar datos de manera eficiente y segura.\n",
        "\n",
        "Cuando una aplicación necesita interactuar con una base de datos SQL Server, debe establecer una conexión para enviar consultas y recibir resultados. Esta conexión permite que la aplicación envíe comandos SQL al servidor de base de datos y reciba los resultados de esas consultas.\n",
        "\n",
        "Una conexión a SQL Server generalmente incluye los siguientes componentes:\n",
        "\n",
        "1. Servidor: La dirección o nombre del servidor donde se aloja la base de datos SQL Server.\n",
        "\n",
        "2. Base de datos: El nombre de la base de datos a la que se desea acceder dentro del servidor.\n",
        "\n",
        "3. Credenciales de autenticación: Las credenciales de usuario (nombre de usuario y contraseña) necesarias para autenticar y establecer la conexión con el servidor.\n",
        "\n",
        "4. Opciones de configuración: Otras opciones de configuración, como el puerto de conexión, el tipo de autenticación (Windows o SQL Server), el tiempo de espera de la conexión, entre otras.\n",
        "\n",
        "Una vez que se establece la conexión, la aplicación puede enviar consultas SQL al servidor de base de datos y recibir los resultados, que pueden incluir datos recuperados, registros afectados por una operación de actualización o eliminación, mensajes de error, etc.\n",
        "\n",
        "Recursos recomendados:\n",
        "\n",
        "- https://www.astera.com/es/knowledge-center/python-to-sql-server-integration/\n",
        "- https://learn.microsoft.com/es-es/sql/connect/python/pyodbc/step-3-proof-of-concept-connecting-to-sql-using-pyodbc?view=sql-server-ver16\n",
        "- https://learn.microsoft.com/es-es/sql/connect/odbc/download-odbc-driver-for-sql-server?view=sql-server-ver16"
      ]
    },
    {
      "cell_type": "markdown",
      "metadata": {
        "id": "hgLOGZf1Puc6"
      },
      "source": [
        "### Información del conjunto de datos: Saber 11° 2019-2"
      ]
    },
    {
      "cell_type": "markdown",
      "metadata": {
        "id": "L-B8ULpfPuc7"
      },
      "source": [
        "- Objetivo: Consumir y construir un DataFrame con resultados de las pruebas saber 11° correspondientes al segundo semestre del año 2019.\n",
        "\n",
        "- Esta fuente de datos es extraida de [Datos Abiertos Colombia](https://www.datos.gov.co/) , Los datos abiertos son información pública dispuesta en formatos que permiten su uso y reutilización bajo licencia abierta y sin restricciones legales para su aprovechamiento.\n",
        "\n",
        "- Este conjunto de datos, está compuesto por datos anonimizados sobre los resultados y características de los resultados de las pruebas saber 11 correspondientes al segundo semestre del año 2019"
      ]
    },
    {
      "cell_type": "markdown",
      "metadata": {
        "id": "m7xmvsG3Puc7"
      },
      "source": [
        "### Ficha técnica"
      ]
    },
    {
      "cell_type": "markdown",
      "metadata": {
        "id": "dO2wxFjIPuc7"
      },
      "source": [
        "Información General:\n",
        "\n",
        "- Fuente de datos: [Datos abiertos Colombia - Saber 11° 2019-2](https://www.datos.gov.co/Educaci-n/Saber-11-2019-2/ynam-yc42/about_data)\n",
        "- Fecha de creación: 23 de diciembre de 2019\n",
        "- Filas: 546.212\n",
        "- Columnas: 82\n",
        "- Vistas: 53,4K (a la fecha de descarga)\n",
        "- Descargas: 90,03K (a la fecha de descarga)\n",
        "\n",
        "Información de la entidad:\n",
        "\n",
        "- Área o dependencia: Instituto Colombiano para la Evaluación de la Educación - ICFES\n",
        "- Nombre de la entidad: Instituto Colombiano para la Evaluación de la Educación\n",
        "- Departamento: Bogotá D.C.\n",
        "- Municipio: Bogotá D.C.\n",
        "- Orden: Nacional\n",
        "- Sector: Educación\n",
        "\n",
        "Información del conjunto de datos:\n",
        "\n",
        "- Idioma: Español\n",
        "- URL de documenación: http://www.icfes.gov.co/investigadores-y-estudiantes-posgrado/acceso-a-bases-de-datos\n",
        "- URL de normativa: http://www.icfes.gov.co/normatividad\n",
        "\n",
        "Temas:\n",
        "\n",
        "- Categoría: Educación\n",
        "- Etiquetas: `pruebas icfes`,`icfes`,`saber 11`,`resultados`"
      ]
    },
    {
      "cell_type": "markdown",
      "metadata": {
        "id": "bxc-lSL9Puc8"
      },
      "source": [
        "### Conexión y consulta a la fuente de datos"
      ]
    },
    {
      "cell_type": "code",
      "execution_count": null,
      "metadata": {
        "id": "mxVtrr6lPuc8"
      },
      "outputs": [],
      "source": [
        "# La función filterwarnings() del módulo warnings, ignora las advertencias que puedan surgir durante la ejecución del programa.\n",
        "\n",
        "\n",
        "# Configuración de la conexión a la base de datos\n",
        "# Aquí se definen las variables que contienen la información para establecer la conexión a SQL Server\n",
        "\n",
        "\n",
        "# Intentar establecer la conexión\n",
        "# La función connect(), intenta establecer la conexión, se pasa una cadena de conexión como argumento a esta función,\n",
        "    # que incluye los detalles del servidor, la base de datos, el usuario y la contraseña.\n"
      ]
    },
    {
      "cell_type": "code",
      "execution_count": null,
      "metadata": {
        "id": "xIpnygVJPuc8"
      },
      "outputs": [],
      "source": [
        "\n",
        "# Ejecutar la consulta y cargar los resultados en un DataFrame de pandas\n"
      ]
    },
    {
      "cell_type": "code",
      "execution_count": null,
      "metadata": {
        "id": "O-JorEdWPuc8"
      },
      "outputs": [],
      "source": [
        "# Se crea un DataFrame nuevo, utilizando los datos existentes del dataset\n"
      ]
    },
    {
      "cell_type": "code",
      "execution_count": null,
      "metadata": {
        "id": "TlblMEtIPuc8"
      },
      "outputs": [],
      "source": [
        "# Consulta y validación de la cantidad de filas y columnas del dataframe\n",
        "\n",
        "\n",
        "# Imprimir mensaje y valores de salidas del dataframe\n"
      ]
    },
    {
      "cell_type": "code",
      "execution_count": null,
      "metadata": {
        "id": "mlOC-4XCPuc9"
      },
      "outputs": [],
      "source": [
        "#  Imprimir el dataframe\n"
      ]
    },
    {
      "cell_type": "code",
      "execution_count": null,
      "metadata": {
        "id": "XxND1_dXPuc9"
      },
      "outputs": [],
      "source": [
        "# La función head, devuelve la cantidad de primeras filas/registros solicitada del dataframe\n",
        "\n"
      ]
    },
    {
      "cell_type": "code",
      "execution_count": null,
      "metadata": {
        "id": "wFh2-PQlPuc9"
      },
      "outputs": [],
      "source": [
        "# La función tail, devuelve la cantidad de últimas filas/registros solicitada del dataframe\n",
        "\n"
      ]
    },
    {
      "cell_type": "code",
      "execution_count": null,
      "metadata": {
        "id": "Qu9xsk2JPuc9"
      },
      "outputs": [],
      "source": [
        "# La función sample, devuelve la cantidad aleatorias de filas/registros solicitada del dataframe\n",
        "\n"
      ]
    },
    {
      "cell_type": "code",
      "execution_count": null,
      "metadata": {
        "id": "EP2IaQwpPuc9"
      },
      "outputs": [],
      "source": [
        "# La función columns, devuelve el nombre de las columnas del dataframe\n",
        "\n"
      ]
    },
    {
      "cell_type": "code",
      "execution_count": null,
      "metadata": {
        "id": "CCy2PH0-Puc9"
      },
      "outputs": [],
      "source": [
        "# la función info, devuelve la cantidad, información y tipo de dato de las 82 columnas del dataframe columnas\n",
        "\n"
      ]
    },
    {
      "cell_type": "code",
      "execution_count": null,
      "metadata": {
        "id": "GMDD7Qv8Puc9"
      },
      "outputs": [],
      "source": [
        "# Identificación de porcentajes faltantes por columnas\n",
        "\n"
      ]
    },
    {
      "cell_type": "markdown",
      "metadata": {
        "id": "pN82VoYRPuc-"
      },
      "source": [
        "# Métodos de recolección y limpieza de datos."
      ]
    },
    {
      "cell_type": "markdown",
      "metadata": {
        "id": "xDFjoctrPuc-"
      },
      "source": [
        "## Recolección"
      ]
    },
    {
      "cell_type": "markdown",
      "metadata": {
        "id": "rWXxNsRHPuc-"
      },
      "source": [
        "En el campo de la ciencia de datos, la recolección, limpieza y centralización de datos son procesos fundamentales para preparar los datos antes de realizar análisis y modelos predictivos.\n",
        "\n",
        "`Recolección de datos:` Es el proceso de obtener datos de diversas fuentes, como:\n",
        "\n",
        "- Bases de datos: públicas, privadas, locales o en la nube.\n",
        "- Archivos: CSV, Excel, JSON, XML, etc.\n",
        "- Sensores: dispositivos físicos que capturan información del mundo real.\n",
        "- Web scraping: extracción de datos de páginas web.\n",
        "- APIs: interfaces de programación que permiten acceder a datos de otras aplicaciones."
      ]
    },
    {
      "cell_type": "code",
      "execution_count": null,
      "metadata": {
        "id": "Ladlfcy_Puc-"
      },
      "outputs": [],
      "source": [
        "# Validación de dataframes\n",
        "\n"
      ]
    },
    {
      "cell_type": "code",
      "execution_count": null,
      "metadata": {
        "id": "rv3lvcX7Puc-"
      },
      "outputs": [],
      "source": [
        "# Visualización del comportamiento de los registros\n",
        "\n",
        "\n",
        "\n",
        "# Crear una lista de años y una lista de la cantidad de registros\n",
        "\n",
        "\n",
        "# Crear el gráfico de líneas\n",
        "\n",
        "\n",
        "# Agregar etiquetas de valor para cada punto\n"
      ]
    },
    {
      "cell_type": "markdown",
      "metadata": {
        "id": "zOC2XJ6NPuc-"
      },
      "source": [
        "## Limpieza"
      ]
    },
    {
      "cell_type": "markdown",
      "metadata": {
        "id": "Rq2TqdZtPuc-"
      },
      "source": [
        "`Limpieza de datos:` Es el proceso de preparar los datos para su análisis, eliminando inconsistencias, errores y valores atípicos. Algunas tareas comunes de limpieza incluyen:\n",
        "\n",
        "- Eliminar filas duplicadas.\n",
        "- Corregir errores de formato.\n",
        "- Tratar valores nulos y faltantes.\n",
        "- Normalizar las variables.\n",
        "- Detectar y eliminar valores atípicos."
      ]
    },
    {
      "cell_type": "markdown",
      "metadata": {
        "id": "4IV3w8rCPuc-"
      },
      "source": [
        "Durante el proceso de limpieza de datos, es crucial identificar y seleccionar únicamente aquellos elementos esenciales que servirán como soporte y suministro para el proceso de normalización.\n",
        "\n",
        "En este contexto, partiendo de la siguiente selección, se llevará a cabo la eliminación de las columnas que no estén contenidas en el siguiente cuadro:"
      ]
    },
    {
      "cell_type": "markdown",
      "metadata": {
        "id": "tyJrrmIhPuc-"
      },
      "source": [
        "![image.png](attachment:image.png)"
      ]
    },
    {
      "cell_type": "markdown",
      "metadata": {
        "id": "OI9LbLm7Puc-"
      },
      "source": [
        "### df_resultados_2019_2"
      ]
    },
    {
      "cell_type": "code",
      "execution_count": null,
      "metadata": {
        "id": "ihMvfqpVPuc_"
      },
      "outputs": [],
      "source": [
        "# Renombrar columnas\n",
        "\n"
      ]
    },
    {
      "cell_type": "code",
      "execution_count": null,
      "metadata": {
        "id": "qEOcD51KPuc_"
      },
      "outputs": [],
      "source": [
        "# Lista de columnas a eliminar\n",
        "\n",
        "\n",
        "# Eliminar las columnas\n"
      ]
    },
    {
      "cell_type": "code",
      "execution_count": null,
      "metadata": {
        "id": "9Ztp2LwzPuc_"
      },
      "outputs": [],
      "source": [
        "# Consulta y validación de la cantidad de filas y columnas del dataframe\n",
        "\n",
        "\n",
        "# Imprimir mensaje y valores de salidas del dataframe\n"
      ]
    },
    {
      "cell_type": "code",
      "execution_count": null,
      "metadata": {
        "id": "MaSe1DJsPuc_"
      },
      "outputs": [],
      "source": [
        "df_resultados_2019_2.columns"
      ]
    },
    {
      "cell_type": "code",
      "execution_count": null,
      "metadata": {
        "id": "gemJoiIyPuc_"
      },
      "outputs": [],
      "source": [
        "# la función info, devuelve la cantidad, información y tipo de dato de las 82 columnas del dataframe columnas\n",
        "\n"
      ]
    },
    {
      "cell_type": "markdown",
      "metadata": {
        "id": "qZImkWjPPuc_"
      },
      "source": [
        "### df_resultados_2020_1"
      ]
    },
    {
      "cell_type": "code",
      "execution_count": null,
      "metadata": {
        "id": "UoMejP1iPudA"
      },
      "outputs": [],
      "source": [
        "# Lista de columnas a eliminar\n",
        "\n",
        "\n",
        "# Intentar eliminar las columnas\n"
      ]
    },
    {
      "cell_type": "code",
      "execution_count": null,
      "metadata": {
        "id": "ZzFMz42TPudA"
      },
      "outputs": [],
      "source": [
        "# Consulta y validación de la cantidad de filas y columnas del dataframe\n",
        "\n",
        "\n",
        "# Imprimir mensaje y valores de salidas del dataframe\n"
      ]
    },
    {
      "cell_type": "code",
      "execution_count": null,
      "metadata": {
        "id": "pFppqcNXPudA"
      },
      "outputs": [],
      "source": [
        "# Validar nombres de columnas"
      ]
    },
    {
      "cell_type": "code",
      "execution_count": null,
      "metadata": {
        "id": "H7py_VX4PudA"
      },
      "outputs": [],
      "source": [
        "# Renombrar columnas\n",
        "\n"
      ]
    },
    {
      "cell_type": "code",
      "execution_count": null,
      "metadata": {
        "id": "CPcpd41sPudB"
      },
      "outputs": [],
      "source": []
    },
    {
      "cell_type": "code",
      "execution_count": null,
      "metadata": {
        "id": "8KAYQ-vgPudB"
      },
      "outputs": [],
      "source": [
        "# la función info, devuelve la cantidad, información y tipo de dato de las 82 columnas del dataframe columnas\n",
        "\n"
      ]
    },
    {
      "cell_type": "markdown",
      "metadata": {
        "id": "YXeYFZ_lPudB"
      },
      "source": [
        "### df_resultados_2020_2"
      ]
    },
    {
      "cell_type": "code",
      "execution_count": null,
      "metadata": {
        "id": "Ci3vCV5IPudB"
      },
      "outputs": [],
      "source": [
        "# Lista de columnas a eliminar\n",
        "\n",
        "\n",
        "# Intentar eliminar las columnas\n"
      ]
    },
    {
      "cell_type": "code",
      "execution_count": null,
      "metadata": {
        "id": "0oRS0LbHPudC"
      },
      "outputs": [],
      "source": [
        "# Consulta y validación de la cantidad de filas y columnas del dataframe\n",
        "\n",
        "\n",
        "# Imprimir mensaje y valores de salidas del dataframe\n"
      ]
    },
    {
      "cell_type": "code",
      "execution_count": null,
      "metadata": {
        "id": "iUTkmResPudC"
      },
      "outputs": [],
      "source": []
    },
    {
      "cell_type": "code",
      "execution_count": null,
      "metadata": {
        "id": "JvK1pi7ePudC"
      },
      "outputs": [],
      "source": [
        "# la función info, devuelve la cantidad, información y tipo de dato de las 82 columnas del dataframe columnas\n",
        "\n"
      ]
    },
    {
      "cell_type": "markdown",
      "metadata": {
        "id": "gog_jqzkPudC"
      },
      "source": [
        "## Centralización"
      ]
    },
    {
      "cell_type": "markdown",
      "metadata": {
        "id": "q1vkPUdKPudC"
      },
      "source": [
        "`Centralización de datos:` Es el proceso de almacenar todos los datos en un único lugar, lo que facilita su acceso y análisis. Algunas opciones para centralizar datos son:\n",
        "\n",
        "- Data lakes: almacenes de datos a gran escala que pueden albergar datos de diferentes formatos y estructuras.\n",
        "- Data warehouses: almacenes de datos estructurados y optimizados para el análisis.\n",
        "- Bases de datos NoSQL: ideales para almacenar datos no estructurados o semiestructurados."
      ]
    },
    {
      "cell_type": "markdown",
      "metadata": {
        "id": "7uWMplF5PudC"
      },
      "source": [
        "`Importancia de la recolección, limpieza y centralización de datos:`\n",
        "\n",
        "- Mejora la calidad de los datos.\n",
        "- Facilita el análisis de datos.\n",
        "- Aumenta la eficiencia del trabajo científico.\n",
        "- Permite tomar mejores decisiones.\n",
        "\n",
        "`Herramientas para la recolección, limpieza y centralización de datos:`\n",
        "\n",
        "- `Python:` Lenguaje de programación con librerías como Pandas, NumPy, Scikit-learn y BeautifulSoup.\n",
        "- `R:` Lenguaje de programación estadístico con librerías como tidyverse, ggplot2 y dplyr.\n",
        "- `SAS:` Software comercial para análisis de datos.\n",
        "- `SSIS:` Microsoft SQL Server Integration Services (SSIS) es una plataforma que permite generar soluciones de integración de datos de alto rendimiento"
      ]
    },
    {
      "cell_type": "code",
      "execution_count": null,
      "metadata": {
        "id": "rOYRZqHGPudC"
      },
      "outputs": [],
      "source": [
        "# Concatenar los DataFrames para crear uno nuevo llamado 'acumulado'\n",
        "\n"
      ]
    },
    {
      "cell_type": "code",
      "execution_count": null,
      "metadata": {
        "id": "yZphKeftPudC"
      },
      "outputs": [],
      "source": [
        "# Consulta y validación de la cantidad de filas y columnas del dataframe\n",
        "\n",
        "\n",
        "# Imprimir mensaje y valores de salidas del dataframe\n"
      ]
    },
    {
      "cell_type": "code",
      "execution_count": null,
      "metadata": {
        "id": "hYDadidSPudC"
      },
      "outputs": [],
      "source": []
    },
    {
      "cell_type": "markdown",
      "metadata": {
        "id": "r3btC-tfPudC"
      },
      "source": [
        "# Exploración inicial/básica de proceso de centralización"
      ]
    },
    {
      "cell_type": "code",
      "execution_count": null,
      "metadata": {
        "id": "aUTDUAOgPudD"
      },
      "outputs": [],
      "source": [
        "# Identificación de porcentajes faltantes por columnas\n",
        "\n"
      ]
    },
    {
      "cell_type": "code",
      "execution_count": null,
      "metadata": {
        "id": "fX32HuwVPudD"
      },
      "outputs": [],
      "source": [
        "# Cantidad, información y tipo de dato de las columnas del dataframe columnas\n"
      ]
    },
    {
      "cell_type": "code",
      "execution_count": null,
      "metadata": {
        "id": "z65wcbDCPudD"
      },
      "outputs": [],
      "source": [
        "# Cantidad de registros por el tipo de genero\n",
        "\n",
        "# generar conteo de registros por valor único en la columna ESTU_GENERO\n"
      ]
    },
    {
      "cell_type": "code",
      "execution_count": null,
      "metadata": {
        "id": "_SlduFcLPudD"
      },
      "outputs": [],
      "source": [
        "# reemplazar valores \"-\"\n",
        "\n",
        "\n",
        "# contar registros de la columna 'ESTU_GENERO'\n"
      ]
    },
    {
      "cell_type": "code",
      "execution_count": null,
      "metadata": {
        "id": "Vzx-byaxPudD"
      },
      "outputs": [],
      "source": [
        "# Obtener el conteo de valores de la columna ESTU_GENERO\n",
        "\n",
        "\n",
        "# Crear gráfico de barras\n",
        "\n",
        "\n",
        "# Añadir título y etiquetas\n",
        "\n",
        "\n",
        "# Agregar etiquetas de valores en las barras\n",
        "\n",
        "\n",
        "# Añadir leyenda\n",
        "\n",
        "\n",
        "# Mostrar el gráfico\n",
        "\n"
      ]
    }
  ],
  "metadata": {
    "kernelspec": {
      "display_name": "Python 3",
      "language": "python",
      "name": "python3"
    },
    "language_info": {
      "codemirror_mode": {
        "name": "ipython",
        "version": 3
      },
      "file_extension": ".py",
      "mimetype": "text/x-python",
      "name": "python",
      "nbconvert_exporter": "python",
      "pygments_lexer": "ipython3",
      "version": "3.11.9"
    },
    "colab": {
      "provenance": [],
      "include_colab_link": true
    }
  },
  "nbformat": 4,
  "nbformat_minor": 0
}